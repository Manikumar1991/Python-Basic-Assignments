{
  "nbformat": 4,
  "nbformat_minor": 0,
  "metadata": {
    "colab": {
      "name": "13.python_basic_assig.ipynb",
      "provenance": [],
      "collapsed_sections": []
    },
    "kernelspec": {
      "name": "python3",
      "display_name": "Python 3"
    },
    "language_info": {
      "name": "python"
    }
  },
  "cells": [
    {
      "cell_type": "code",
      "execution_count": null,
      "metadata": {
        "id": "9pORmTzRVhFw"
      },
      "outputs": [],
      "source": [
        "#1. What advantages do Excel spreadsheets have over CSV spreadsheets?\n",
        "'''\n",
        "CSV file does not need any specific platform to open; it can also be opened in a simple text editor, and the user can simply read and understand it.\n",
        "CSV format is compatible and can be used on several platforms like notepad, access, etc. when compared to Excel.\n",
        "CSV is generally faster and less complicated when compared to Excel.\n",
        "CSV consumes less memory than Excel.\n",
        "'''"
      ]
    },
    {
      "cell_type": "code",
      "source": [
        "#2.What do you pass to csv.reader() and csv.writer() to create reader and writer objects?\n",
        "'''\n",
        "Then, the csv.reader() is used to read the file, which returns an iterable reader object.\n",
        "The csv.writer() function returns a writer object that converts the user's data into a delimited string\n",
        "'''"
      ],
      "metadata": {
        "id": "IvLUo56_WTwg"
      },
      "execution_count": null,
      "outputs": []
    },
    {
      "cell_type": "code",
      "source": [
        "#3. What modes do File objects for reader and writer objects need to be opened in?\n",
        "'''\n",
        "for reader we need to open the file in open(file,'r') mode\n",
        "for writer we need to open the file in open(file,'w') mode\n",
        "'''"
      ],
      "metadata": {
        "id": "gf5QNQXdXape"
      },
      "execution_count": null,
      "outputs": []
    },
    {
      "cell_type": "code",
      "source": [
        "#4. What method takes a list argument and writes it to a CSV file?\n",
        "'''\n",
        "writer.writerow([\"a\",\"b\",\"c\"]\n",
        "'''\n"
      ],
      "metadata": {
        "id": "ODlvsXa8Xujj"
      },
      "execution_count": null,
      "outputs": []
    },
    {
      "cell_type": "code",
      "source": [
        "#5. What do the keyword arguments delimiter and line terminator do?\n",
        "'''\n",
        "Say you want to separate cells with a tab character instead of a comma and you want the rows to be double-spaced. \n",
        "You could enter something like the following into the interactive shell\n",
        "\n",
        "csvWriter = csv.writer(csvFile, delimiter='\\t', lineterminator='\\n\\n')\n",
        "'''"
      ],
      "metadata": {
        "id": "etRC1YmEYIU3"
      },
      "execution_count": null,
      "outputs": []
    },
    {
      "cell_type": "code",
      "source": [
        "#6. What function takes a string of JSON data and returns a Python data structure?\n",
        "'''\n",
        "json.loads() method return Python data structure of JSON string or data\n",
        "'''   "
      ],
      "metadata": {
        "id": "-Nf4KefkZhBY"
      },
      "execution_count": null,
      "outputs": []
    },
    {
      "cell_type": "code",
      "source": [
        "d='{\"a\":1,\"b\":2}'\n",
        "import json\n",
        "j=json.loads(d) \n",
        "print(type(d))"
      ],
      "metadata": {
        "colab": {
          "base_uri": "https://localhost:8080/"
        },
        "id": "GiRuu2XwaBWI",
        "outputId": "6a59c9fd-bebf-4c85-edc3-2f2ac690f50e"
      },
      "execution_count": null,
      "outputs": [
        {
          "output_type": "stream",
          "name": "stdout",
          "text": [
            "<class 'str'>\n"
          ]
        }
      ]
    },
    {
      "cell_type": "code",
      "source": [
        "#7. What function takes a Python data structure and returns a string of JSON data?\n",
        "\n",
        "import json\n",
        "dict={\"a\":1,\"b\":2}\n",
        "x=json.JSONEncoder().encode(d)\n",
        "print(type(x))"
      ],
      "metadata": {
        "colab": {
          "base_uri": "https://localhost:8080/"
        },
        "id": "tL9ktQjtaCbH",
        "outputId": "9e438b07-094d-4a58-f7c6-3b93cb0d9351"
      },
      "execution_count": null,
      "outputs": [
        {
          "output_type": "stream",
          "name": "stdout",
          "text": [
            "<class 'str'>\n"
          ]
        }
      ]
    },
    {
      "cell_type": "code",
      "source": [
        ""
      ],
      "metadata": {
        "id": "3BuhszvQrsan"
      },
      "execution_count": null,
      "outputs": []
    }
  ]
}