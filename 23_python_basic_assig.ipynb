{
 "cells": [
  {
   "cell_type": "code",
   "execution_count": 1,
   "id": "75e77da2",
   "metadata": {},
   "outputs": [],
   "source": [
    "#1. What is the result of the code, and why?\n",
    "def func(a,b=6,c=8):\n",
    "    print(a,b,c)"
   ]
  },
  {
   "cell_type": "code",
   "execution_count": 4,
   "id": "e3b7c02e",
   "metadata": {},
   "outputs": [
    {
     "name": "stdout",
     "output_type": "stream",
     "text": [
      "1 2 8\n"
     ]
    }
   ],
   "source": [
    "func(1,2) # b=8 is replaced with 2 and c=8 positional argument"
   ]
  },
  {
   "cell_type": "code",
   "execution_count": 5,
   "id": "3fcdab05",
   "metadata": {},
   "outputs": [],
   "source": [
    "#2. What is the result of this code, and why?\n",
    "def func(a, b, c=5):\n",
    "    print(a,b,c)"
   ]
  },
  {
   "cell_type": "code",
   "execution_count": 6,
   "id": "82d89085",
   "metadata": {},
   "outputs": [
    {
     "name": "stdout",
     "output_type": "stream",
     "text": [
      "1 2 3\n"
     ]
    }
   ],
   "source": [
    "func(1, c=3, b=2) # b and c are positional argument if we swap the value is assigned is same"
   ]
  },
  {
   "cell_type": "code",
   "execution_count": 7,
   "id": "2fc15fb4",
   "metadata": {},
   "outputs": [],
   "source": [
    "#3. How about this code: what is its result, and why?\n",
    "def func(a, *pargs):\n",
    "    print(a,pargs)"
   ]
  },
  {
   "cell_type": "code",
   "execution_count": 8,
   "id": "1cf91319",
   "metadata": {},
   "outputs": [
    {
     "name": "stdout",
     "output_type": "stream",
     "text": [
      "1 (2, 3)\n"
     ]
    }
   ],
   "source": [
    "func(1, 2, 3) \n",
    "#*pargs passes variable number of non-keyworded arguments and on which operation of the tuple can be performed."
   ]
  },
  {
   "cell_type": "code",
   "execution_count": 9,
   "id": "ed30cc41",
   "metadata": {},
   "outputs": [],
   "source": [
    "#4. What does this code print, and why?\n",
    "def func(a, **kargs):\n",
    "    print(a,kargs)"
   ]
  },
  {
   "cell_type": "code",
   "execution_count": 21,
   "id": "6434938a",
   "metadata": {},
   "outputs": [
    {
     "name": "stdout",
     "output_type": "stream",
     "text": [
      "1 2 3 5\n"
     ]
    }
   ],
   "source": [
    "func(a=1, c=3, b=2)\n",
    "\n",
    "#**kwargs passes variable number of keyword arguments dictionary \n",
    "#to function on which operation of a dictionary can be performed.\n"
   ]
  },
  {
   "cell_type": "code",
   "execution_count": 17,
   "id": "83920d37",
   "metadata": {},
   "outputs": [],
   "source": [
    "#5. What gets printed by this, and explain?\n",
    "def func(a, b, c=8, d=5): \n",
    "    print(a, b,c, d)"
   ]
  },
  {
   "cell_type": "code",
   "execution_count": 22,
   "id": "51bae5f6",
   "metadata": {},
   "outputs": [
    {
     "name": "stdout",
     "output_type": "stream",
     "text": [
      "1 5 6 5\n"
     ]
    }
   ],
   "source": [
    "func(1, *(5, 6))\n",
    "\n",
    "#*(5,6) is taken to the value b and c like non keyword arguments\n"
   ]
  },
  {
   "cell_type": "code",
   "execution_count": 23,
   "id": "4e6465a3",
   "metadata": {},
   "outputs": [],
   "source": [
    "#6. what is the result of this, and explain?\n",
    "def func(a, b, c): \n",
    "    a = 2; \n",
    "    b[0] = 'x'; \n",
    "    c['a'] = 'y'"
   ]
  },
  {
   "cell_type": "code",
   "execution_count": 24,
   "id": "93f9489c",
   "metadata": {},
   "outputs": [],
   "source": [
    "l=1; m=[1]; n={'a':0}"
   ]
  },
  {
   "cell_type": "code",
   "execution_count": 25,
   "id": "cd751f7d",
   "metadata": {},
   "outputs": [],
   "source": [
    "func(l, m, n)"
   ]
  },
  {
   "cell_type": "code",
   "execution_count": 26,
   "id": "32ec6fde",
   "metadata": {},
   "outputs": [
    {
     "data": {
      "text/plain": [
       "(1, ['x'], {'a': 'y'})"
      ]
     },
     "execution_count": 26,
     "metadata": {},
     "output_type": "execute_result"
    }
   ],
   "source": [
    "l,m,n"
   ]
  },
  {
   "cell_type": "code",
   "execution_count": null,
   "id": "17d9d29e",
   "metadata": {},
   "outputs": [],
   "source": [
    "#In func we defined value ,list and dict format\n",
    "#In fun(l,m,n) the result are expected bcz l,m,n are define as variable,list,dic format 0 is replaced with 'y' as \n",
    "#we defined key to 'y'"
   ]
  }
 ],
 "metadata": {
  "kernelspec": {
   "display_name": "Python 3 (ipykernel)",
   "language": "python",
   "name": "python3"
  },
  "language_info": {
   "codemirror_mode": {
    "name": "ipython",
    "version": 3
   },
   "file_extension": ".py",
   "mimetype": "text/x-python",
   "name": "python",
   "nbconvert_exporter": "python",
   "pygments_lexer": "ipython3",
   "version": "3.9.7"
  }
 },
 "nbformat": 4,
 "nbformat_minor": 5
}
