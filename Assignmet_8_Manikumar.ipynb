{
 "cells": [
  {
   "cell_type": "code",
   "execution_count": null,
   "id": "f436810e",
   "metadata": {},
   "outputs": [],
   "source": [
    "#1. Is the Python Standard Library included with PyInputPlus?\n",
    "\n",
    "'''\n",
    "No,\n",
    "PyInputPlus is a Python module used for taking inputs with additional validation features. \n",
    "PyInputPlus will keep asking the user for text until they enter valid input.\n",
    "\n",
    "Installation command:   pip install PyInputPlus\n",
    "'''"
   ]
  },
  {
   "cell_type": "code",
   "execution_count": 2,
   "id": "8f93fd2a",
   "metadata": {},
   "outputs": [
    {
     "name": "stdout",
     "output_type": "stream",
     "text": [
      "Collecting PyInputPlusNote: you may need to restart the kernel to use updated packages.\n",
      "  Downloading PyInputPlus-0.2.12.tar.gz (20 kB)\n",
      "  Installing build dependencies: started\n",
      "  Installing build dependencies: finished with status 'done'\n",
      "  Getting requirements to build wheel: started\n",
      "  Getting requirements to build wheel: finished with status 'done'\n",
      "  Preparing metadata (pyproject.toml): started\n",
      "  Preparing metadata (pyproject.toml): finished with status 'done'\n",
      "Collecting stdiomask>=0.0.3\n",
      "  Downloading stdiomask-0.0.6.tar.gz (3.6 kB)\n",
      "  Installing build dependencies: started\n",
      "  Installing build dependencies: finished with status 'done'\n",
      "  Getting requirements to build wheel: started\n",
      "  Getting requirements to build wheel: finished with status 'done'\n",
      "  Preparing metadata (pyproject.toml): started\n",
      "  Preparing metadata (pyproject.toml): finished with status 'done'\n",
      "Collecting pysimplevalidate>=0.2.7\n",
      "  Downloading PySimpleValidate-0.2.12.tar.gz (22 kB)\n",
      "  Installing build dependencies: started\n",
      "  Installing build dependencies: finished with status 'done'\n",
      "  Getting requirements to build wheel: started\n",
      "  Getting requirements to build wheel: finished with status 'done'\n",
      "  Preparing metadata (pyproject.toml): started\n",
      "  Preparing metadata (pyproject.toml): finished with status 'done'\n",
      "\n"
     ]
    },
    {
     "name": "stderr",
     "output_type": "stream",
     "text": [
      "WARNING: You are using pip version 21.3.1; however, version 22.0.3 is available.\n",
      "You should consider upgrading via the 'C:\\Users\\Admin\\anaconda3\\python.exe -m pip install --upgrade pip' command.\n"
     ]
    },
    {
     "name": "stdout",
     "output_type": "stream",
     "text": [
      "Building wheels for collected packages: PyInputPlus, pysimplevalidate, stdiomask\n",
      "  Building wheel for PyInputPlus (pyproject.toml): started\n",
      "  Building wheel for PyInputPlus (pyproject.toml): finished with status 'done'\n",
      "  Created wheel for PyInputPlus: filename=PyInputPlus-0.2.12-py3-none-any.whl size=11315 sha256=7818880c298eee4a890164a92b9c5d7701b9b15d81a3e1afd7e9d7003113d188\n",
      "  Stored in directory: c:\\users\\admin\\appdata\\local\\pip\\cache\\wheels\\b4\\6e\\2f\\8a852732646cabec36c3fe8fc060ec5bea1c1be711432c47f7\n",
      "  Building wheel for pysimplevalidate (pyproject.toml): started\n",
      "  Building wheel for pysimplevalidate (pyproject.toml): finished with status 'done'\n",
      "  Created wheel for pysimplevalidate: filename=PySimpleValidate-0.2.12-py3-none-any.whl size=16193 sha256=db9b7f05940b838b85967585416989bc761ed604c9f37e134a4e7a75e8c10994\n",
      "  Stored in directory: c:\\users\\admin\\appdata\\local\\pip\\cache\\wheels\\b1\\44\\4a\\043a4f4c4512c7cdfb0c2b8408b18b0de5fd45cac57f5dfa02\n",
      "  Building wheel for stdiomask (pyproject.toml): started\n",
      "  Building wheel for stdiomask (pyproject.toml): finished with status 'done'\n",
      "  Created wheel for stdiomask: filename=stdiomask-0.0.6-py3-none-any.whl size=3321 sha256=ff1bd3698a0c3068954aab0946a1ae7f267a1f117b98c2ffaf7801c75c729662\n",
      "  Stored in directory: c:\\users\\admin\\appdata\\local\\pip\\cache\\wheels\\1d\\aa\\47\\f41f117d22c5de82e95d9342f44da578c80610739a2d5ebec4\n",
      "Successfully built PyInputPlus pysimplevalidate stdiomask\n",
      "Installing collected packages: stdiomask, pysimplevalidate, PyInputPlus\n",
      "Successfully installed PyInputPlus-0.2.12 pysimplevalidate-0.2.12 stdiomask-0.0.6\n"
     ]
    }
   ],
   "source": [
    "pip install PyInputPlus"
   ]
  },
  {
   "cell_type": "code",
   "execution_count": null,
   "id": "a2ab7691",
   "metadata": {},
   "outputs": [],
   "source": [
    "#2. Why is PyInputPlus commonly imported with import pyinputplus as pypi?\n",
    "'''\n",
    "You can import the module with import pyinputplus as pyip so that you can enter a shorter name \n",
    "when calling the module’s functions\n",
    "'''"
   ]
  },
  {
   "cell_type": "code",
   "execution_count": 5,
   "id": "ea0679ef",
   "metadata": {},
   "outputs": [
    {
     "name": "stdout",
     "output_type": "stream",
     "text": [
      "Enter an Integer... dgd\n",
      "'dgd' is not an integer.\n",
      "Enter an Integer... 12\n",
      "12\n"
     ]
    }
   ],
   "source": [
    "#3. How do you distinguish between inputInt() and inputFloat()?\n",
    "\n",
    "'''\n",
    "inputInt() : Accepts an integer value. This also takes additional parameters ‘min’, ‘max’, ‘greaterThan’ and ‘lessThan’ \n",
    "for bounds.Returns an int.\n",
    "\n",
    "inputFloat() : Accepts a floating-point numeric value. Also takes additional ‘min’, ‘max’, ‘greaterThan’ and ‘lessThan’  \n",
    "parameters. Returns a float.\n",
    "'''\n",
    "import pyinputplus as pyip\n",
    "inp_int = pyip.inputInt(prompt = \"Enter an Integer... \", default = 0, limit = 3)\n",
    "  \n",
    "print(inp_int)"
   ]
  },
  {
   "cell_type": "code",
   "execution_count": 8,
   "id": "0da8f164",
   "metadata": {},
   "outputs": [
    {
     "name": "stdout",
     "output_type": "stream",
     "text": [
      "Enter a float... pythin\n",
      "'pythin' is not a float.\n",
      "Enter a float... 15.368\n",
      "15.368\n"
     ]
    }
   ],
   "source": [
    "inp_float = pyip.inputFloat(prompt = \"Enter a float... \", default = 0, limit = 3)\n",
    "  \n",
    "print(inp_float)"
   ]
  },
  {
   "cell_type": "code",
   "execution_count": 11,
   "id": "33ef0285",
   "metadata": {},
   "outputs": [
    {
     "name": "stdout",
     "output_type": "stream",
     "text": [
      "123\n",
      "Number must be at maximum 100.\n",
      "0\n",
      "Number must be at minimum 1.\n",
      "50\n",
      "50\n"
     ]
    }
   ],
   "source": [
    "#4. Using PyInputPlus, how do you ensure that the user enters a whole number between 0 and 99?\n",
    "x=pyip.inputInt(min=1, max=100)\n",
    "print(x)"
   ]
  },
  {
   "cell_type": "code",
   "execution_count": 2,
   "id": "40ed17c1",
   "metadata": {},
   "outputs": [
    {
     "name": "stdout",
     "output_type": "stream",
     "text": [
      "Enter a valid...cat\n",
      "This response is invalid.\n",
      "Enter a valid...FSDS\n"
     ]
    }
   ],
   "source": [
    "#5. What is transferred to the keyword arguments allowRegexes and blockRegexes?\n",
    "'''\n",
    "You can also use regular expressions to specify whether an input is allowed or not. \n",
    "The allowRegexes and blockRegexes keyword arguments take a list of regular expression strings to determine \n",
    "what the PyInputPlus function will accept or reject as valid input.\n",
    "'''\n",
    "import pyinputplus as pyip\n",
    "response = pyip.inputStr(prompt = \"Enter a valid...\",allowRegexes=[r'Ineuron', 'FSDS','Python'],blockRegexes=[r'cat'])"
   ]
  },
  {
   "cell_type": "code",
   "execution_count": 3,
   "id": "f00e24f1",
   "metadata": {},
   "outputs": [
    {
     "name": "stdout",
     "output_type": "stream",
     "text": [
      "Enter an Integer... fhfgjn\n",
      "'fhfgjn' is not an integer.\n",
      "Enter an Integer... dhfdh\n",
      "'dhfdh' is not an integer.\n",
      "Enter an Integer... fhfd\n",
      "'fhfd' is not an integer.\n",
      "0\n"
     ]
    }
   ],
   "source": [
    "#6. If a blank input is entered three times, what does inputStr(limit=3) do?\n",
    "'''\n",
    "PyInputPlus also has other useful features like a limit for the number of times it reprompts users and a timeout \n",
    "if users are required to respond within a time limit.\n",
    "'''\n",
    "inp_int = pyip.inputInt(prompt = \"Enter an Integer... \", default = 0, limit = 3) #after enter 3 wrong inputs code will stops\n",
    "  \n",
    "print(inp_int)"
   ]
  },
  {
   "cell_type": "code",
   "execution_count": 12,
   "id": "d92609da",
   "metadata": {},
   "outputs": [
    {
     "name": "stdout",
     "output_type": "stream",
     "text": [
      "\n",
      "Blank values are not allowed.\n",
      "\n",
      "Blank values are not allowed.\n",
      "\n",
      "Blank values are not allowed.\n",
      "hello\n"
     ]
    }
   ],
   "source": [
    "#7. If blank input is entered three times, what does inputStr(limit=3, default='hello') do?\n",
    "\n",
    "import pyinputplus as pyip\n",
    "y=pyip.inputStr(limit=3, default='hello') # after 3 blank input attempts it prints hello\n",
    "print(y)"
   ]
  },
  {
   "cell_type": "code",
   "execution_count": null,
   "id": "f731cd5e",
   "metadata": {},
   "outputs": [],
   "source": []
  }
 ],
 "metadata": {
  "kernelspec": {
   "display_name": "Python 3 (ipykernel)",
   "language": "python",
   "name": "python3"
  },
  "language_info": {
   "codemirror_mode": {
    "name": "ipython",
    "version": 3
   },
   "file_extension": ".py",
   "mimetype": "text/x-python",
   "name": "python",
   "nbconvert_exporter": "python",
   "pygments_lexer": "ipython3",
   "version": "3.9.7"
  }
 },
 "nbformat": 4,
 "nbformat_minor": 5
}
