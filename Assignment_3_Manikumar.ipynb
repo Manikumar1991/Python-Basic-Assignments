{
 "cells": [
  {
   "cell_type": "markdown",
   "id": "a8f09fca",
   "metadata": {},
   "source": [
    "1. Why are functions advantageous to have in your programs?\n",
    "\n",
    "-Main advantage of fuctions is code reusability\n",
    "-Functions reduce the need for duplicate code\n",
    "-makes programs shorter, easier to read, and easier to update."
   ]
  },
  {
   "cell_type": "markdown",
   "id": "6ab41ae2",
   "metadata": {},
   "source": [
    "2. When does the code in a function run: when it's specified or when it's called?\n",
    "\n",
    "-When a function is \"called\" the program \"leaves\" the current section of code and begins to execute the first line inside   the function. Thus the function \"flow of control\" is:\n",
    "-The program comes to a line of code containing a \"function call\".\n",
    "-The program enters the function (starts at the first line in the function code).\n",
    "-All instructions inside of the function are executed from top to bottom.\n",
    "-The program leaves the function and goes back to where it started from.\n",
    "-Any data computed and RETURNED by the function is used in place of the function in the original line of code.\n"
   ]
  },
  {
   "cell_type": "markdown",
   "id": "da7c769f",
   "metadata": {},
   "source": [
    "3. What statement creates a function?\n",
    "A function is defined by using the def keyword, followed by a name of your choosing, followed by a set of parentheses which hold any parameters the function will take (they can be empty), and ending with a colon.\n",
    "\n",
    "\n",
    "def functionname(args):\n",
    "    Code of Body\n",
    "    return\n",
    "\n"
   ]
  },
  {
   "cell_type": "code",
   "execution_count": 2,
   "id": "3132bc4c",
   "metadata": {},
   "outputs": [
    {
     "name": "stdout",
     "output_type": "stream",
     "text": [
      "5\n"
     ]
    }
   ],
   "source": [
    "#4. What is the difference between a function and a function call?\n",
    "\n",
    "'''A function consists of the def statement and the code in its def clause.\n",
    "\n",
    "A function call is what moves the program execution into the function, \n",
    "and the function call evaluates to the function's return value.'''\n",
    "\n",
    "#A function is a group of statements that together perform a task\n",
    "def add(a,b):\n",
    "    c=a+b\n",
    "    return c\n",
    "\n",
    "#A function call means invoking or calling that function.\n",
    "\n",
    "add(2,3)"
   ]
  },
  {
   "cell_type": "code",
   "execution_count": 10,
   "id": "b3428182",
   "metadata": {},
   "outputs": [
    {
     "data": {
      "text/plain": [
       "3"
      ]
     },
     "execution_count": 10,
     "metadata": {},
     "output_type": "execute_result"
    }
   ],
   "source": [
    "#5. How many global scopes are there in a Python program? How many local scopes?\n",
    "\n",
    "#One global scope in function and a local scope is created whenever a function is called.\n",
    "# global scope\n",
    "X = 99                # X and func assigned in module: global\n",
    "          \n",
    "def func(Y):          # Y and Z assigned in function: locals\n",
    "    # local scope\n",
    "    Z = X + Y         # X is not assigned, so it's a global\n",
    "    return Z\n",
    "\n",
    "func(1)               # func in module: result=100\n",
    "\n",
    "#Type 2\n",
    "y, z = 1, 2         # global variables in module\n",
    "\n",
    "def all_global():\n",
    "    global x        # declare globals assigned\n",
    "    x = y + z  \n",
    "    return x # no need to declare y,z: 3-scope rule\n",
    "all_global()    "
   ]
  },
  {
   "cell_type": "code",
   "execution_count": 9,
   "id": "8a5ba23a",
   "metadata": {},
   "outputs": [
    {
     "data": {
      "text/plain": [
       "100"
      ]
     },
     "execution_count": 9,
     "metadata": {},
     "output_type": "execute_result"
    }
   ],
   "source": [
    "func(1)"
   ]
  },
  {
   "cell_type": "markdown",
   "id": "84f52d18",
   "metadata": {},
   "source": [
    "6. What happens to variables in a local scope when the function call returns?\n",
    "\n",
    "When the execution of the function terminates (returns), the local variables are destroyed"
   ]
  },
  {
   "cell_type": "markdown",
   "id": "eb354c04",
   "metadata": {},
   "source": [
    "7. What is the concept of a return value? Is it possible to have a return value in an expression?\n",
    "\n",
    "A return statement is used to end the execution of the function call and “returns” the result (value of the expression following the return keyword) to the caller. The statements after the return statements are not executed. If the return statement is without any expression, then the special value None is returned. \n",
    "\n",
    "def add(a,b):\n",
    "    return a+b   ----->return values as expression"
   ]
  },
  {
   "cell_type": "code",
   "execution_count": 15,
   "id": "faccaa1e",
   "metadata": {},
   "outputs": [
    {
     "name": "stdout",
     "output_type": "stream",
     "text": [
      "None\n"
     ]
    }
   ],
   "source": [
    "#8. If a function does not have a return statement, what is the return value of a call to that function?\n",
    "\n",
    "def test(x):\n",
    "    return    #If the return statement is without any expression, then the special value None is returned. \n",
    "print(test(10))    "
   ]
  },
  {
   "cell_type": "code",
   "execution_count": 16,
   "id": "86f1412a",
   "metadata": {},
   "outputs": [
    {
     "data": {
      "text/plain": [
       "12"
      ]
     },
     "execution_count": 16,
     "metadata": {},
     "output_type": "execute_result"
    }
   ],
   "source": [
    "#9. How do you make a function variable refer to the global variable?\n",
    "x=10    # Global variable\n",
    "def func9(y):\n",
    "    return y+z\n",
    "func9(10)"
   ]
  },
  {
   "cell_type": "code",
   "execution_count": 22,
   "id": "263ea228",
   "metadata": {},
   "outputs": [
    {
     "data": {
      "text/plain": [
       "21"
      ]
     },
     "execution_count": 22,
     "metadata": {},
     "output_type": "execute_result"
    }
   ],
   "source": [
    "#Type2\n",
    "def func9_1(p,q):\n",
    "    global a    # global variable declared inisde a function\n",
    "    a=9\n",
    "    return a+q\n",
    "func9_1(10,12)"
   ]
  },
  {
   "cell_type": "code",
   "execution_count": 24,
   "id": "61bada54",
   "metadata": {},
   "outputs": [
    {
     "name": "stdout",
     "output_type": "stream",
     "text": [
      "<class 'NoneType'>\n"
     ]
    }
   ],
   "source": [
    "#10. What is the data type of None?\n",
    "print(type(None))"
   ]
  },
  {
   "cell_type": "code",
   "execution_count": 25,
   "id": "8de8b798",
   "metadata": {},
   "outputs": [
    {
     "ename": "ModuleNotFoundError",
     "evalue": "No module named 'areallyourpetsnamederic'",
     "output_type": "error",
     "traceback": [
      "\u001b[1;31m---------------------------------------------------------------------------\u001b[0m",
      "\u001b[1;31mModuleNotFoundError\u001b[0m                       Traceback (most recent call last)",
      "\u001b[1;32m~\\AppData\\Local\\Temp/ipykernel_7464/705782548.py\u001b[0m in \u001b[0;36m<module>\u001b[1;34m\u001b[0m\n\u001b[0;32m      1\u001b[0m \u001b[1;31m#11. What does the sentence import areallyourpetsnamederic do?\u001b[0m\u001b[1;33m\u001b[0m\u001b[1;33m\u001b[0m\u001b[0m\n\u001b[1;32m----> 2\u001b[1;33m \u001b[1;32mimport\u001b[0m \u001b[0mareallyourpetsnamederic\u001b[0m\u001b[1;33m\u001b[0m\u001b[1;33m\u001b[0m\u001b[0m\n\u001b[0m",
      "\u001b[1;31mModuleNotFoundError\u001b[0m: No module named 'areallyourpetsnamederic'"
     ]
    }
   ],
   "source": [
    "#11. What does the sentence import areallyourpetsnamederic do?\n",
    "import areallyourpetsnamederic  # it looks this module is not existed in python library"
   ]
  },
  {
   "cell_type": "markdown",
   "id": "b943f05c",
   "metadata": {},
   "source": [
    "12. If you had a bacon() feature in a spam module, what would you call it after importing spam?\n",
    "spam.bacon()"
   ]
  },
  {
   "cell_type": "markdown",
   "id": "e3240d02",
   "metadata": {},
   "source": [
    "13. What can you do to save a programme from crashing if it encounters an error?\n",
    "\n",
    "Place the line of code that might cause an error in a try clause.\n"
   ]
  },
  {
   "cell_type": "code",
   "execution_count": 52,
   "id": "43f8d64b",
   "metadata": {},
   "outputs": [
    {
     "name": "stdout",
     "output_type": "stream",
     "text": [
      "cannot divisible by zero division by zero\n"
     ]
    }
   ],
   "source": [
    "'''14. What is the purpose of the try clause? What is the purpose of the except clause?\n",
    "\n",
    "Answer:\n",
    "The code that could potentially cause an error goes in the try clause.\n",
    "The code that executes if an error happens goes in the except clause.'''\n",
    "def fun14(a,b):\n",
    "    try:\n",
    "        if b!=0:\n",
    "            print(\"Denominator is zero\")\n",
    "        return a/b\n",
    "    except Exception as e:\n",
    "        print(\"cannot divisible by zero\",e)\n",
    "fun14(10,0) "
   ]
  },
  {
   "cell_type": "code",
   "execution_count": null,
   "id": "1f8cdcfc",
   "metadata": {},
   "outputs": [],
   "source": []
  },
  {
   "cell_type": "code",
   "execution_count": null,
   "id": "16e1b81a",
   "metadata": {},
   "outputs": [],
   "source": [
    "10"
   ]
  }
 ],
 "metadata": {
  "kernelspec": {
   "display_name": "Python 3 (ipykernel)",
   "language": "python",
   "name": "python3"
  },
  "language_info": {
   "codemirror_mode": {
    "name": "ipython",
    "version": 3
   },
   "file_extension": ".py",
   "mimetype": "text/x-python",
   "name": "python",
   "nbconvert_exporter": "python",
   "pygments_lexer": "ipython3",
   "version": "3.9.7"
  }
 },
 "nbformat": 4,
 "nbformat_minor": 5
}
