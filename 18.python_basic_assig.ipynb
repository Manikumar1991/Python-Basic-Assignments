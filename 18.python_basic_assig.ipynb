{
 "cells": [
  {
   "cell_type": "markdown",
   "id": "b02513ae",
   "metadata": {},
   "source": [
    "'''\n",
    "1. Create a zoo.py file first. Define the hours() function, which prints the string 'Open 9-5 daily'. \n",
    "Then, use the interactive interpreter to import the zoo module and call its hours() function.\n",
    "'''"
   ]
  },
  {
   "cell_type": "code",
   "execution_count": 2,
   "id": "10807519",
   "metadata": {},
   "outputs": [],
   "source": [
    "import zoo"
   ]
  },
  {
   "cell_type": "code",
   "execution_count": 3,
   "id": "66840269",
   "metadata": {},
   "outputs": [
    {
     "data": {
      "text/plain": [
       "'Open 9-5 daily'"
      ]
     },
     "execution_count": 3,
     "metadata": {},
     "output_type": "execute_result"
    }
   ],
   "source": [
    "zoo.hours()"
   ]
  },
  {
   "cell_type": "code",
   "execution_count": null,
   "id": "412a667b",
   "metadata": {},
   "outputs": [],
   "source": [
    "#2.In the interactive interpreter, import the zoo module as menagerie and call its hours() function."
   ]
  },
  {
   "cell_type": "code",
   "execution_count": 4,
   "id": "c6f28974",
   "metadata": {},
   "outputs": [],
   "source": [
    "import zoo as menagerie"
   ]
  },
  {
   "cell_type": "code",
   "execution_count": 5,
   "id": "160aff94",
   "metadata": {},
   "outputs": [
    {
     "data": {
      "text/plain": [
       "'Open 9-5 daily'"
      ]
     },
     "execution_count": 5,
     "metadata": {},
     "output_type": "execute_result"
    }
   ],
   "source": [
    "menagerie.hours()"
   ]
  },
  {
   "cell_type": "code",
   "execution_count": 6,
   "id": "2b139111",
   "metadata": {},
   "outputs": [],
   "source": [
    "#3.Using the interpreter, explicitly import and call the hours() function from zoo.\n",
    "from zoo import hours"
   ]
  },
  {
   "cell_type": "code",
   "execution_count": 7,
   "id": "20a272fd",
   "metadata": {},
   "outputs": [
    {
     "data": {
      "text/plain": [
       "'Open 9-5 daily'"
      ]
     },
     "execution_count": 7,
     "metadata": {},
     "output_type": "execute_result"
    }
   ],
   "source": [
    "hours()"
   ]
  },
  {
   "cell_type": "code",
   "execution_count": 8,
   "id": "441ae0d1",
   "metadata": {},
   "outputs": [],
   "source": [
    "#4.Import the hours() function as info and call it.\n",
    "from zoo import hours as info"
   ]
  },
  {
   "cell_type": "code",
   "execution_count": 9,
   "id": "f012cc68",
   "metadata": {},
   "outputs": [
    {
     "data": {
      "text/plain": [
       "'Open 9-5 daily'"
      ]
     },
     "execution_count": 9,
     "metadata": {},
     "output_type": "execute_result"
    }
   ],
   "source": [
    "info()"
   ]
  },
  {
   "cell_type": "code",
   "execution_count": 12,
   "id": "6a16aa96",
   "metadata": {},
   "outputs": [],
   "source": [
    "#5.Create a plain dictionary with the key-value pairs 'a': 1, 'b': 2, and 'c': 3, and print it out.\n",
    "plain={'a': 1, 'b': 2,'c': 3}"
   ]
  },
  {
   "cell_type": "code",
   "execution_count": 13,
   "id": "eab5bced",
   "metadata": {},
   "outputs": [
    {
     "data": {
      "text/plain": [
       "{'a': 1, 'b': 2, 'c': 3}"
      ]
     },
     "execution_count": 13,
     "metadata": {},
     "output_type": "execute_result"
    }
   ],
   "source": [
    "plain"
   ]
  },
  {
   "cell_type": "code",
   "execution_count": 18,
   "id": "b3c5258b",
   "metadata": {},
   "outputs": [],
   "source": [
    "#6.Make an OrderedDict called fancy from the same pairs listed in 5 and print it. Did it print in the same order as plain?\n",
    "from collections import OrderedDict\n",
    "fancy=OrderedDict({'a': 1, 'b': 2,'c': 3})"
   ]
  },
  {
   "cell_type": "code",
   "execution_count": 19,
   "id": "b8642bd3",
   "metadata": {},
   "outputs": [
    {
     "data": {
      "text/plain": [
       "OrderedDict([('a', 1), ('b', 2), ('c', 3)])"
      ]
     },
     "execution_count": 19,
     "metadata": {},
     "output_type": "execute_result"
    }
   ],
   "source": [
    "fancy"
   ]
  },
  {
   "cell_type": "code",
   "execution_count": null,
   "id": "01bdae3f",
   "metadata": {},
   "outputs": [],
   "source": [
    "'''\n",
    "7. Make a default dictionary called dict_of_lists and pass it the argument list. Make the list dict_of_lists['a'] and \n",
    "append the value 'something for a' to it in one assignment. Print dict_of_lists['a'].\n",
    "'''"
   ]
  },
  {
   "cell_type": "code",
   "execution_count": 23,
   "id": "4888c085",
   "metadata": {},
   "outputs": [],
   "source": [
    "import collections\n",
    "dict_of_lists=collections.defaultdict(list)\n",
    "dict_of_lists['a'].append('Something for a')"
   ]
  },
  {
   "cell_type": "code",
   "execution_count": 25,
   "id": "8cd1d128",
   "metadata": {},
   "outputs": [
    {
     "name": "stdout",
     "output_type": "stream",
     "text": [
      "defaultdict(<class 'list'>, {'a': ['Something for a']})\n"
     ]
    }
   ],
   "source": [
    "print(dict_of_lists)"
   ]
  },
  {
   "cell_type": "code",
   "execution_count": null,
   "id": "f6dcc4ea",
   "metadata": {},
   "outputs": [],
   "source": []
  }
 ],
 "metadata": {
  "kernelspec": {
   "display_name": "Python 3 (ipykernel)",
   "language": "python",
   "name": "python3"
  },
  "language_info": {
   "codemirror_mode": {
    "name": "ipython",
    "version": 3
   },
   "file_extension": ".py",
   "mimetype": "text/x-python",
   "name": "python",
   "nbconvert_exporter": "python",
   "pygments_lexer": "ipython3",
   "version": "3.9.7"
  }
 },
 "nbformat": 4,
 "nbformat_minor": 5
}
