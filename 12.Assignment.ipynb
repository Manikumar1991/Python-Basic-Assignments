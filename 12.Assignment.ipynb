{
 "cells": [
  {
   "cell_type": "code",
   "execution_count": null,
   "id": "094491cb",
   "metadata": {},
   "outputs": [],
   "source": [
    "#1.In what modes should the PdfFileReader() and PdfFileWriter() File objects will be opened?\n",
    "'''\n",
    "PyPDF2.PdfFileReader() needs to be opened in read-binary mode by passing 'rb' as the second argument to open(). \n",
    "Likewise, the File object passed to PyPDF2.PdfFileWriter() needs to be opened in write-binary mode with 'wb'.\n",
    "'''"
   ]
  },
  {
   "cell_type": "code",
   "execution_count": null,
   "id": "1dfb0808",
   "metadata": {},
   "outputs": [],
   "source": [
    "#2.From a PdfFileReader object, how do you get a Page object for page 5?\n",
    "'''\n",
    "You can get a Page object by calling the getPage() method  on a PdfFileReader object and passing it the \n",
    "page number of the page\n",
    "'''"
   ]
  },
  {
   "cell_type": "code",
   "execution_count": null,
   "id": "7821c734",
   "metadata": {},
   "outputs": [],
   "source": [
    "#3.What PdfFileReader variable stores the number of pages in the PDF document?\n",
    "'''\n",
    "The \"numPages\" variable stores an integer of the number of pages in the PdfFileReader object.\n",
    "'''"
   ]
  },
  {
   "cell_type": "code",
   "execution_count": null,
   "id": "fac04486",
   "metadata": {},
   "outputs": [],
   "source": [
    "#4.If a PdfFileReader object’s PDF is encrypted with the password swordfish, what must you do before you can obtain Page objects from it?\n",
    "'''\n",
    "pdfReader.decrypt('swordfish')\n",
    "pageObj = pdfReader.getPage(0)\n",
    "'''"
   ]
  },
  {
   "cell_type": "code",
   "execution_count": null,
   "id": "c4b9364a",
   "metadata": {},
   "outputs": [],
   "source": [
    "#5.What methods do you use to rotate a page?\n",
    "'''\n",
    "page.rotateClockwise(180)\n",
    "'''"
   ]
  },
  {
   "cell_type": "code",
   "execution_count": null,
   "id": "87dd1913",
   "metadata": {},
   "outputs": [],
   "source": [
    "#6.What is the difference between a Run object and a Paragraph object?\n",
    "'''A document contains multiple paragraphs. A paragraph begins on a new line and contains multiple runs. \n",
    "Runs are contiguous groups of characters within the a paragraph.\n",
    "'''"
   ]
  },
  {
   "cell_type": "code",
   "execution_count": null,
   "id": "db4274b5",
   "metadata": {},
   "outputs": [],
   "source": [
    "#7.How do you obtain a list of Paragraph objects for a Document object that’s stored in a variable named doc?\n",
    "import docx\n",
    "doc = docx.Document()\n",
    "doc.add_paragraph('Hello world!')"
   ]
  },
  {
   "cell_type": "code",
   "execution_count": null,
   "id": "9420aede",
   "metadata": {},
   "outputs": [],
   "source": [
    "#8.What type of object has bold, underline, italic, strike, and outline variables?\n",
    "'''\n",
    "A Run object has these variables (not a paragraph)\n",
    "'''\n"
   ]
  },
  {
   "cell_type": "code",
   "execution_count": null,
   "id": "50a93876",
   "metadata": {},
   "outputs": [],
   "source": [
    "#9.What is the difference between False, True, and None for the bold variable?\n",
    "'''\n",
    "True always makes the Run object bolded and False makes it always not bolded, no matter what the style's bold setting is.\n",
    "None will make the Run object just use the style's bold setting.\n",
    "'''"
   ]
  },
  {
   "cell_type": "code",
   "execution_count": null,
   "id": "f337a7bd",
   "metadata": {},
   "outputs": [],
   "source": [
    "#10.How do you create a Document object for a new Word document?\n",
    "'''\n",
    "Call the docx.Document() function.\n",
    "'''"
   ]
  },
  {
   "cell_type": "code",
   "execution_count": null,
   "id": "a610789e",
   "metadata": {},
   "outputs": [],
   "source": [
    "#11. How do you add a paragraph with the text 'Hello, there!' to a Document object stored in a variable named doc?\n",
    "'''\n",
    "doc.add_paragraph('Hello there!')\n",
    "'''"
   ]
  },
  {
   "cell_type": "code",
   "execution_count": null,
   "id": "5e25fae5",
   "metadata": {},
   "outputs": [],
   "source": [
    "#12. What integers represent the levels of headings available in Word documents?\n",
    "'''\n",
    "doc = docx.Document()\n",
    "doc.add_heading('Header 0', 0)\n",
    "doc.add_heading('Header 1', 1)\n",
    "doc.add_heading('Header 2', 2)\n",
    "doc.add_heading('Header 3', 3)\n",
    "doc.add_heading('Header 4', 4)\n",
    "The arguments to add_heading() are a string of the heading text and an integer from 0 to 4. \n",
    "The integer 0 makes the heading the Title style, which is used for the top of the document. \n",
    "Integers 1 to 4 are for various heading levels, with 1 being the main heading and 4 the lowest subheading. \n",
    "The add_heading() function returns a Paragraph object to save you the step of extracting it from the Document object as a\n",
    "separate step.\n",
    "'''"
   ]
  },
  {
   "attachments": {
    "image.png": {
     "image/png": "[encoded data removed]"
    }
   },
   "cell_type": "markdown",
   "id": "3af901fb",
   "metadata": {},
   "source": [
    "![image.png](attachment:image.png)"
   ]
  },
  {
   "cell_type": "code",
   "execution_count": null,
   "id": "16d73b20",
   "metadata": {},
   "outputs": [],
   "source": []
  }
 ],
 "metadata": {
  "kernelspec": {
   "display_name": "Python 3 (ipykernel)",
   "language": "python",
   "name": "python3"
  },
  "language_info": {
   "codemirror_mode": {
    "name": "ipython",
    "version": 3
   },
   "file_extension": ".py",
   "mimetype": "text/x-python",
   "name": "python",
   "nbconvert_exporter": "python",
   "pygments_lexer": "ipython3",
   "version": "3.9.7"
  }
 },
 "nbformat": 4,
 "nbformat_minor": 5
}
