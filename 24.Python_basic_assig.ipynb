{
 "cells": [
  {
   "cell_type": "code",
   "execution_count": 1,
   "id": "942e33ea",
   "metadata": {},
   "outputs": [
    {
     "data": {
      "text/plain": [
       "8"
      ]
     },
     "execution_count": 1,
     "metadata": {},
     "output_type": "execute_result"
    }
   ],
   "source": [
    "#1. What is the relationship between def statements and lambda expressions ?\n",
    "\n",
    "def add(a,b):\n",
    "    return a+b\n",
    "add(3,5)"
   ]
  },
  {
   "cell_type": "code",
   "execution_count": 8,
   "id": "e8344db2",
   "metadata": {},
   "outputs": [],
   "source": [
    "x=lambda a=10,b=5 :  a+b"
   ]
  },
  {
   "cell_type": "code",
   "execution_count": 10,
   "id": "7d4afc99",
   "metadata": {},
   "outputs": [
    {
     "name": "stdout",
     "output_type": "stream",
     "text": [
      "5\n"
     ]
    }
   ],
   "source": [
    "print(x(2,3))"
   ]
  },
  {
   "cell_type": "code",
   "execution_count": null,
   "id": "96726219",
   "metadata": {},
   "outputs": [],
   "source": [
    "#2. What is the benefit of lambda?\n",
    "'''\n",
    "Lambda function reduces the line of code\n",
    "syntax   lambda arg: expression\n",
    "'''"
   ]
  },
  {
   "cell_type": "code",
   "execution_count": 18,
   "id": "d8e95113",
   "metadata": {},
   "outputs": [],
   "source": [
    "#3.Compare and contrast map, filter, and reduce.\n",
    "a=[1,2,3,4,5,6,7,8,9,10]\n",
    "def power(a):\n",
    "    return a*a\n",
    "mapp=map(power,a)"
   ]
  },
  {
   "cell_type": "code",
   "execution_count": 20,
   "id": "55db44a9",
   "metadata": {},
   "outputs": [
    {
     "name": "stdout",
     "output_type": "stream",
     "text": [
      "[1, 4, 9, 16, 25, 36, 49, 64, 81, 100]\n"
     ]
    }
   ],
   "source": [
    "print(list(mapp))"
   ]
  },
  {
   "cell_type": "code",
   "execution_count": 24,
   "id": "28788d25",
   "metadata": {},
   "outputs": [],
   "source": [
    "def filt(i):\n",
    "    if i%2!=0:\n",
    "        return i\n",
    "fil=filter(filt,a)"
   ]
  },
  {
   "cell_type": "code",
   "execution_count": 25,
   "id": "98d770ed",
   "metadata": {},
   "outputs": [
    {
     "name": "stdout",
     "output_type": "stream",
     "text": [
      "[1, 3, 5, 7, 9]\n"
     ]
    }
   ],
   "source": [
    "print(list(fil))"
   ]
  },
  {
   "cell_type": "code",
   "execution_count": 26,
   "id": "f2d69a49",
   "metadata": {},
   "outputs": [
    {
     "data": {
      "text/plain": [
       "187"
      ]
     },
     "execution_count": 26,
     "metadata": {},
     "output_type": "execute_result"
    }
   ],
   "source": [
    "from functools import reduce\n",
    "reduce(lambda a,b: a+b,[23,21,45,98])"
   ]
  },
  {
   "cell_type": "code",
   "execution_count": null,
   "id": "cb3b7fa9",
   "metadata": {},
   "outputs": [],
   "source": [
    "#4. What are function annotations, and how are they used?\n",
    "'''\n",
    "Function annotations are arbitrary python expressions that are associated with various part of functions. These expressions are evaluated at compile time and have no life in python’s runtime environment. Python does not attach any meaning to these annotations. \n",
    "They take life when interpreted by third party libraries, for example, mypy.\n",
    "\n",
    "\n",
    "Annotations for simple parameters : The argument name is followed by ‘:’ which is then followed by the expression. \n",
    "Annotation syntax is shown below.\n",
    "def foobar(a: expression, b: expression = 5):\n",
    "\n",
    "Annotations for excess parameters : Excess parameters for e.g. *args and **kwargs, allow arbitrary number of \n",
    "arguments to be passed in a function call. Annotation syntax of such parameters is shown below.\n",
    "def foobar(*args: expression, *kwargs: expression):'''"
   ]
  },
  {
   "cell_type": "code",
   "execution_count": 29,
   "id": "8e749c11",
   "metadata": {},
   "outputs": [],
   "source": [
    "#5. What are recursive functions, and how are they used?\n",
    "def factorial(n):\n",
    "    if n==0:\n",
    "        return 1\n",
    "    return n*factorial(n-1)"
   ]
  },
  {
   "cell_type": "code",
   "execution_count": 30,
   "id": "be6ae333",
   "metadata": {},
   "outputs": [
    {
     "data": {
      "text/plain": [
       "120"
      ]
     },
     "execution_count": 30,
     "metadata": {},
     "output_type": "execute_result"
    }
   ],
   "source": [
    "factorial(5)"
   ]
  },
  {
   "cell_type": "code",
   "execution_count": null,
   "id": "e5e72cad",
   "metadata": {},
   "outputs": [],
   "source": [
    "#6.What are some general design guidelines for coding functions?\n",
    "'''\n",
    "1.use def keyword follwed by function name and pass arguments in it\n",
    "2.write the logic inside the body\n",
    "3.return the value\n",
    "'''"
   ]
  },
  {
   "cell_type": "code",
   "execution_count": 31,
   "id": "d9095b76",
   "metadata": {},
   "outputs": [],
   "source": [
    "#7.Name three or more ways that functions can communicate results to a caller.\n",
    "def square(x):\n",
    "    y = x * x\n",
    "    return y\n",
    "\n",
    "def sum_of_squares(x, y, z):\n",
    "    a = square(x)\n",
    "    b = square(y)\n",
    "    c = square(z)\n",
    "    return a + b + c"
   ]
  },
  {
   "cell_type": "code",
   "execution_count": 33,
   "id": "6e095b97",
   "metadata": {},
   "outputs": [
    {
     "data": {
      "text/plain": [
       "29"
      ]
     },
     "execution_count": 33,
     "metadata": {},
     "output_type": "execute_result"
    }
   ],
   "source": [
    "sum_of_squares(2,3,4)"
   ]
  }
 ],
 "metadata": {
  "kernelspec": {
   "display_name": "Python 3 (ipykernel)",
   "language": "python",
   "name": "python3"
  },
  "language_info": {
   "codemirror_mode": {
    "name": "ipython",
    "version": 3
   },
   "file_extension": ".py",
   "mimetype": "text/x-python",
   "name": "python",
   "nbconvert_exporter": "python",
   "pygments_lexer": "ipython3",
   "version": "3.9.7"
  }
 },
 "nbformat": 4,
 "nbformat_minor": 5
}
