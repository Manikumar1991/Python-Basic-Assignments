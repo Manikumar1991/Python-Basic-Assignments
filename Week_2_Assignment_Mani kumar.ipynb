{
 "cells": [
  {
   "cell_type": "markdown",
   "id": "ba6ec49a",
   "metadata": {
    "id": "ba6ec49a"
   },
   "source": [
    "# Assignment - 2"
   ]
  },
  {
   "cell_type": "markdown",
   "id": "e45e2682",
   "metadata": {
    "id": "e45e2682"
   },
   "source": [
    "## Introduction to Neural Networks"
   ]
  },
  {
   "cell_type": "code",
   "execution_count": 2,
   "id": "2e50065b",
   "metadata": {
    "id": "2e50065b"
   },
   "outputs": [],
   "source": [
    "# performing Imports\n",
    "\n",
    "import numpy as np # numpy is used mostly for the algebraic operations\n",
    "import os # to perform operations related to system\n",
    "import math # used to perform mathmatical operations"
   ]
  },
  {
   "cell_type": "markdown",
   "id": "91026b4f",
   "metadata": {
    "id": "91026b4f"
   },
   "source": [
    "##  Q1 (10 points)\n",
    "\n",
    ">1.1    Define a sigmoid function \"sigmoid\" that takes a number as the input, apply sigmoid function on the input and returns the value after applying sigmoid function. (3)\n",
    "\n",
    ">1.2  Initialize a numpy array \"ran_arr\" with 50 random entries between 0-10. (2)\n",
    "\n",
    ">1.3  Initialize one empty list \"log_list\".(2)\n",
    "\n",
    ">1.4  Create a \"for\" loop to pass all the values in the \"ran_arr\", apply \"sigmoid\" function and store all the values in \"log_list\" (3) \n",
    "\n",
    ">1.5   Print \"log_list\""
   ]
  },
  {
   "cell_type": "code",
   "execution_count": 3,
   "id": "3bc1f3e0",
   "metadata": {},
   "outputs": [],
   "source": [
    "x=np.random.randint(10,size=50)\n",
    "x\n",
    "def sigmoid(x):\n",
    "    return 1 / (1 + np.exp(-x))"
   ]
  },
  {
   "cell_type": "code",
   "execution_count": 4,
   "id": "8e587df4",
   "metadata": {
    "id": "8e587df4"
   },
   "outputs": [
    {
     "name": "stdout",
     "output_type": "stream",
     "text": [
      "[0.9975273768433653, 0.9996646498695336, 0.9933071490757153, 0.9525741268224334, 0.8807970779778823, 0.9933071490757153, 0.7310585786300049, 0.9933071490757153, 0.9990889488055994, 0.5, 0.9820137900379085, 0.9975273768433653, 0.9975273768433653, 0.9996646498695336, 0.9933071490757153, 0.9525741268224334, 0.9820137900379085, 0.9990889488055994, 0.9996646498695336, 0.9820137900379085, 0.9996646498695336, 0.8807970779778823, 0.7310585786300049, 0.9998766054240137, 0.9820137900379085, 0.5, 0.8807970779778823, 0.9525741268224334, 0.9820137900379085, 0.9996646498695336, 0.9933071490757153, 0.9525741268224334, 0.9525741268224334, 0.9998766054240137, 0.9975273768433653, 0.9975273768433653, 0.9990889488055994, 0.9933071490757153, 0.9820137900379085, 0.9975273768433653, 0.9996646498695336, 0.9975273768433653, 0.9525741268224334, 0.5, 0.7310585786300049, 0.9996646498695336, 0.9933071490757153, 0.7310585786300049, 0.7310585786300049, 0.9820137900379085]\n",
      "0.9999546021312976\n"
     ]
    }
   ],
   "source": [
    "## Complete the Code below\n",
    "\n",
    "# define function\n",
    "\n",
    "def sigmoid(num):   \n",
    "    return 1 / (1 + np.exp(-num))\n",
    "    \n",
    "    \n",
    "    return\n",
    "\n",
    "\n",
    "# initialize array\n",
    "ran_arr = np.random.randint(10,size=50)\n",
    "\n",
    "# initialize list\n",
    "log_list = []\n",
    "\n",
    "# for loop to apply logistic function on all values of ran_arr \n",
    "for number in ran_arr:\n",
    "    sig=sigmoid(number)\n",
    "    log_list.append(sig)\n",
    "    \n",
    "\n",
    "    \n",
    "\n",
    "# print()\n",
    "print(log_list)\n",
    "print(sigmoid(10))"
   ]
  },
  {
   "cell_type": "markdown",
   "id": "V4g41y78HJKZ",
   "metadata": {
    "id": "V4g41y78HJKZ"
   },
   "source": [
    "##Q2(2 Points)\n",
    "In Model based learning methods, an iterative process takes place on the ML models that are built based on various model parameters, called ? \n",
    ">A. mini-batches\n",
    "\n",
    "> B. optimizedparameters\n",
    " \n",
    "> C. hyperparameters\n",
    " \n",
    ">D. superparameters\n"
   ]
  },
  {
   "cell_type": "code",
   "execution_count": 5,
   "id": "4O3EE2PvHp9D",
   "metadata": {
    "id": "4O3EE2PvHp9D"
   },
   "outputs": [
    {
     "name": "stdout",
     "output_type": "stream",
     "text": [
      "B\n"
     ]
    }
   ],
   "source": [
    "## Print your answer\n",
    "print('B')"
   ]
  },
  {
   "cell_type": "markdown",
   "id": "62d161c9",
   "metadata": {
    "id": "62d161c9"
   },
   "source": [
    "\n",
    "## 3.1 Implement the L1 loss functions (5 points)\n",
    "\n",
    "**Hint**: Implement the numpy vectorized version of the L1 loss. You may find the function abs(x) (absolute value of x) useful.\n",
    "\n",
    "- The loss is used to evaluate the performance of your model. The bigger your loss is, the more different your predictions ($ \\hat{y} $) are from the true values ($y$). \n",
    "- In deep learning, you use optimization algorithms like Gradient Descent to train your model and to minimize the cost.\n",
    "\n",
    "### L1 loss is defined as:\n",
    "\n",
    "\n",
    "$$\\begin{align*} & L_1(\\hat{y}, y) = \\sum_{i=0}^m|y^{(i)} - \\hat{y}^{(i)}| \\end{align*}$$\n",
    "\n"
   ]
  },
  {
   "cell_type": "code",
   "execution_count": 6,
   "id": "0dbef630",
   "metadata": {
    "id": "0dbef630"
   },
   "outputs": [
    {
     "name": "stdout",
     "output_type": "stream",
     "text": [
      "L1_loss = [0.02  0.02  0.045 0.005 0.005]\n"
     ]
    }
   ],
   "source": [
    "# 3.1 Implement l1_loss function here\n",
    "\n",
    "def L1_loss(y_cap, y):\n",
    "    \"\"\"\n",
    "    y_cap: vector of size m (predicted labels)\n",
    "    y: vector of size m (true labels)\n",
    "    \n",
    "    Returns:\n",
    "    loss: the value of the L1 loss function defined above\n",
    "    \"\"\"\n",
    "    \n",
    "    ### code here\n",
    "    loss = 0.5*(y_cap-y)**2\n",
    "    return loss\n",
    "    \n",
    "    \n",
    "    \n",
    "\n",
    "\n",
    "\n",
    "y_cap = np.array([.8, 0.2, 0.3, .9, .9])\n",
    "y = np.array([1, 0, 0, 1, 1])\n",
    "print(\"L1_loss = \" + str(L1_loss(y_cap,y)))"
   ]
  },
  {
   "cell_type": "markdown",
   "id": "1hGn0RXacy8B",
   "metadata": {
    "id": "1hGn0RXacy8B"
   },
   "source": [
    "\n",
    "## 3.2 Implement the L2 loss functions (5 points)\n",
    "\n",
    "Implement the numpy vectorized version of the L2 loss. \n",
    "Hint: There are several way of implementing the L2 loss but you may find the function np.dot() useful. \n",
    "- As a reminder, if $x = [x_1, x_2, ..., x_n]$, then `np.dot(x,x)` = $\\sum_{j=0}^n x_j^{2}$. \n",
    "\n",
    "### L2 loss is defined as \n",
    "\n",
    "$$\\begin{align*} & L_2(\\hat{y},y) = \\sum_{i=0}^m(y^{(i)} - \\hat{y}^{(i)})^2 \\end{align*}$$"
   ]
  },
  {
   "cell_type": "code",
   "execution_count": 8,
   "id": "cf18591c",
   "metadata": {
    "id": "cf18591c"
   },
   "outputs": [
    {
     "name": "stdout",
     "output_type": "stream",
     "text": [
      "L2_loss = [0.005 0.02  0.005 0.18  0.005]\n"
     ]
    }
   ],
   "source": [
    "# 3.2 implement l2_loss here\n",
    "\n",
    "def L2_loss(y_cap, y):\n",
    "    \"\"\"\n",
    "    \n",
    "    y_cap: vector of size m (predicted labels)\n",
    "    y: vector of size m (true labels)\n",
    "    \n",
    "    Returns:\n",
    "    loss: the value of the L2_loss function defined above\n",
    "    \"\"\"\n",
    "    \n",
    "    ### code here\n",
    "    loss = 0.5*(y_cap-y)**2\n",
    "    return loss\n",
    "    \n",
    "    \n",
    "    \n",
    "\n",
    "\n",
    "\n",
    "\n",
    "y_cap = np.array([.9, 0.2, 0.1, .4, .9])\n",
    "y = np.array([1, 0, 0, 1, 1])\n",
    "print(\"L2_loss = \" + str(L2_loss(y_cap,y)))"
   ]
  },
  {
   "cell_type": "markdown",
   "id": "448ff9b8",
   "metadata": {
    "id": "448ff9b8"
   },
   "source": [
    "## Q4 (10 Points)\n",
    "\n",
    "> Complete the forward_pass function \n"
   ]
  },
  {
   "cell_type": "code",
   "execution_count": 22,
   "id": "7de73c55",
   "metadata": {
    "id": "7de73c55"
   },
   "outputs": [
    {
     "ename": "ValueError",
     "evalue": "operands could not be broadcast together with shapes (5,10,16) (160,1) ",
     "output_type": "error",
     "traceback": [
      "\u001b[1;31m---------------------------------------------------------------------------\u001b[0m",
      "\u001b[1;31mValueError\u001b[0m                                Traceback (most recent call last)",
      "\u001b[1;32m~\\AppData\\Local\\Temp/ipykernel_10092/1152311112.py\u001b[0m in \u001b[0;36m<module>\u001b[1;34m\u001b[0m\n\u001b[0;32m     50\u001b[0m \u001b[0mcorrect_out\u001b[0m \u001b[1;33m=\u001b[0m \u001b[0mnp\u001b[0m\u001b[1;33m.\u001b[0m\u001b[0marray\u001b[0m\u001b[1;33m(\u001b[0m\u001b[1;33m[\u001b[0m\u001b[1;33m[\u001b[0m\u001b[1;36m0.2\u001b[0m\u001b[1;33m]\u001b[0m\u001b[1;33m,\u001b[0m\u001b[1;33m[\u001b[0m\u001b[1;36m0.3\u001b[0m\u001b[1;33m]\u001b[0m\u001b[1;33m,\u001b[0m\u001b[1;33m[\u001b[0m\u001b[1;36m0.1\u001b[0m\u001b[1;33m]\u001b[0m\u001b[1;33m,\u001b[0m\u001b[1;33m[\u001b[0m\u001b[1;36m0.3\u001b[0m\u001b[1;33m]\u001b[0m\u001b[1;33m,\u001b[0m\u001b[1;33m[\u001b[0m\u001b[1;36m0.4\u001b[0m\u001b[1;33m]\u001b[0m\u001b[1;33m]\u001b[0m\u001b[1;33m)\u001b[0m  \u001b[1;31m# shape = (5, 1)\u001b[0m\u001b[1;33m\u001b[0m\u001b[1;33m\u001b[0m\u001b[0m\n\u001b[0;32m     51\u001b[0m \u001b[1;33m\u001b[0m\u001b[0m\n\u001b[1;32m---> 52\u001b[1;33m \u001b[0mout\u001b[0m \u001b[1;33m=\u001b[0m \u001b[0mforward_pass\u001b[0m\u001b[1;33m(\u001b[0m\u001b[0min_arr\u001b[0m\u001b[1;33m,\u001b[0m \u001b[0mcorrect_out\u001b[0m\u001b[1;33m,\u001b[0m \u001b[0mweights\u001b[0m\u001b[1;33m,\u001b[0m \u001b[0mbias\u001b[0m\u001b[1;33m)\u001b[0m\u001b[1;33m\u001b[0m\u001b[1;33m\u001b[0m\u001b[0m\n\u001b[0m\u001b[0;32m     53\u001b[0m \u001b[1;33m\u001b[0m\u001b[0m\n\u001b[0;32m     54\u001b[0m \u001b[1;31m# Compare your output with ours.\u001b[0m\u001b[1;33m\u001b[0m\u001b[1;33m\u001b[0m\u001b[0m\n",
      "\u001b[1;32m~\\AppData\\Local\\Temp/ipykernel_10092/1152311112.py\u001b[0m in \u001b[0;36mforward_pass\u001b[1;34m(x, y, w, b)\u001b[0m\n\u001b[0;32m     21\u001b[0m     \u001b[1;31m#E=[]\u001b[0m\u001b[1;33m\u001b[0m\u001b[1;33m\u001b[0m\u001b[0m\n\u001b[0;32m     22\u001b[0m   \u001b[1;31m# start your code here\u001b[0m\u001b[1;33m\u001b[0m\u001b[1;33m\u001b[0m\u001b[0m\n\u001b[1;32m---> 23\u001b[1;33m     \u001b[0my_pred\u001b[0m\u001b[1;33m=\u001b[0m\u001b[0mx\u001b[0m\u001b[1;33m*\u001b[0m\u001b[0mw\u001b[0m\u001b[1;33m+\u001b[0m\u001b[0mb\u001b[0m\u001b[1;33m\u001b[0m\u001b[1;33m\u001b[0m\u001b[0m\n\u001b[0m\u001b[0;32m     24\u001b[0m     \u001b[0merror\u001b[0m\u001b[1;33m=\u001b[0m\u001b[0mrel_error\u001b[0m\u001b[1;33m(\u001b[0m\u001b[0my\u001b[0m\u001b[1;33m,\u001b[0m\u001b[0my_pred\u001b[0m\u001b[1;33m)\u001b[0m\u001b[1;33m\u001b[0m\u001b[1;33m\u001b[0m\u001b[0m\n\u001b[0;32m     25\u001b[0m     \u001b[1;31m# end your code here\u001b[0m\u001b[1;33m\u001b[0m\u001b[1;33m\u001b[0m\u001b[0m\n",
      "\u001b[1;31mValueError\u001b[0m: operands could not be broadcast together with shapes (5,10,16) (160,1) "
     ]
    }
   ],
   "source": [
    "# we are defining an error function (do not make any change in it)\n",
    "def rel_error(x, y):\n",
    "  \"\"\" returns relative error \"\"\"\n",
    "  return np.max(np.abs(x - y) / (np.maximum(1e-8, np.abs(x) + np.abs(y))))\n",
    "\n",
    "\n",
    "\n",
    "'''\n",
    "NOTE: You may need to reshape the arrays as per the shape of input and weight metrices in order to perform matrics multiplication.\n",
    "'''\n",
    "#  complete this function \"forward_pass\" to calculate predicted output after one iteration (no backward pass)\n",
    "def forward_pass(x,y,w,b):\n",
    "       \n",
    "\n",
    "      #  input \n",
    "      #x: input array\n",
    "      #y: output array\n",
    "      #w: weights array\n",
    "      #b: bias array \n",
    "      #returns: y_pred\n",
    "    #E=[]\n",
    "  # start your code here\n",
    "    y_pred=x*w+b\n",
    "    error=rel_error(y,y_pred)\n",
    "    # end your code here\n",
    "    return y_pred\n",
    "    \n",
    "    \n",
    "\n",
    "\n",
    "\n",
    "\n",
    "  \n",
    "  \n",
    "\n",
    "\n",
    "\n",
    "\n",
    "# defining our initial values \n",
    "num_inputs = 5  # number of inputs\n",
    "input_shape = (10, 16)   # shape of one input\n",
    "output_dim = 1 # output dimension\n",
    "\n",
    "input_size = num_inputs * np.prod(input_shape)   # size of our whole input array\n",
    "weight_size = output_dim * np.prod(input_shape)  # size of weights array\n",
    "\n",
    "in_arr = np.linspace(-0.1, 0.5, num=input_size).reshape(num_inputs, *input_shape)  #shape = (5, 10, 16)\n",
    "weights = np.random.rand(np.prod(input_shape), output_dim)  #shape = (160, 1)\n",
    "bias = np.random.rand(1) # shape = (1)\n",
    "correct_out = np.array([[0.2],[0.3],[0.1],[0.3],[0.4]])  # shape = (5, 1)\n",
    "\n",
    "out = forward_pass(in_arr, correct_out, weights, bias)\n",
    "\n",
    "# Compare your output with ours.\n",
    "print('Testing forward_pass function:')\n",
    "print('difference: ', rel_error(out, correct_out))"
   ]
  },
  {
   "cell_type": "markdown",
   "id": "KddYymW4BLo5",
   "metadata": {
    "id": "KddYymW4BLo5"
   },
   "source": [
    "##Q5 (2 Points)\n",
    "Logistic Regression is a Machine Learning algorithm that is used to predict the probability of a ___?\n",
    ">(A) categorical independent variable.\n",
    "\n",
    ">(B) categorical dependent variable.\n",
    "\n",
    ">(C) numerical dependent variable.\n",
    "\n",
    ">(D) numerical independent variable."
   ]
  },
  {
   "cell_type": "code",
   "execution_count": 26,
   "id": "MinbQAj2C9wk",
   "metadata": {
    "id": "MinbQAj2C9wk"
   },
   "outputs": [
    {
     "name": "stdout",
     "output_type": "stream",
     "text": [
      "B\n"
     ]
    }
   ],
   "source": [
    "# Print the correct option\n",
    "print('B')"
   ]
  },
  {
   "cell_type": "markdown",
   "id": "eddeba3a",
   "metadata": {
    "id": "eddeba3a"
   },
   "source": [
    "## Q6 (3 points)\n",
    " What does a neuron compute?"
   ]
  },
  {
   "cell_type": "code",
   "execution_count": null,
   "id": "5995b0be",
   "metadata": {
    "id": "5995b0be"
   },
   "outputs": [],
   "source": [
    "# Q6: Solution\n",
    "\n",
    "# print your answer from the options given below.\n",
    "\n",
    "'''\n",
    "A) A neuron computes the mean of all features before applying the output to an activation function\n",
    "B) A neuron computes an activation function followed by a linear function (z = Wx + b)\n",
    "C) A neuron computes a linear function (z = Wx + b) followed by an activation function\n",
    "D) A neuron computes a function g that scales the input x linearly (Wx + b)\n",
    "\n",
    "'''\n",
    "\n",
    "print('Correct answer is: {}'.format('#your option'))\n",
    "\n"
   ]
  },
  {
   "cell_type": "markdown",
   "id": "81a9d9a1",
   "metadata": {
    "id": "81a9d9a1"
   },
   "source": [
    "## Q7 (6 points)\n",
    "Suppose img is a (32,32,3) array, representing a 32x32 image with 3 color channels red, green and blue. How do you reshape this into a column vector ?"
   ]
  },
  {
   "cell_type": "code",
   "execution_count": 30,
   "id": "29a8e08d",
   "metadata": {
    "id": "29a8e08d"
   },
   "outputs": [
    {
     "name": "stdout",
     "output_type": "stream",
     "text": [
      "Correct answer is: D\n",
      "Explanation is: 32*32 are the no.of pixels in the image and 3 colors are the depth of the colors in image\n"
     ]
    }
   ],
   "source": [
    "# Q7: Solution\n",
    "\n",
    "# print your answer from the options given below.\n",
    "\n",
    "'''\n",
    "A) x = img.reshape((32*32,3))\n",
    "B) x = img.reshape((1,32*32,*3))\n",
    "C) x = img.reshape((3,32*32))\n",
    "D) x = img.reshape((32*32*3,1))\n",
    "\n",
    "'''\n",
    "\n",
    "print('Correct answer is: {}'.format('D'))\n",
    "\n",
    "# Please give explanation of parameters which you are passing and why that only ?\n",
    "\n",
    "print(\"Explanation is: {}\".format('32*32 are the no.of pixels in the image and 3 colors are the depth of the colors in image'))"
   ]
  },
  {
   "cell_type": "markdown",
   "id": "FrZmQhIlDtUW",
   "metadata": {
    "id": "FrZmQhIlDtUW"
   },
   "source": [
    "##Q8 (2 points)\n",
    "\n",
    "#In a logistic regression model, the decision boundary can be ___.\n",
    ">(A) linear\n",
    "\n",
    ">(B) non-linear\n",
    "\n",
    ">(C) both (A) and (B)\n",
    "\n",
    ">(D) none of these"
   ]
  },
  {
   "cell_type": "code",
   "execution_count": 31,
   "id": "gSZddzFuFWQm",
   "metadata": {
    "id": "gSZddzFuFWQm"
   },
   "outputs": [
    {
     "name": "stdout",
     "output_type": "stream",
     "text": [
      "C\n"
     ]
    }
   ],
   "source": [
    "# Print your answer\n",
    "print('C')"
   ]
  },
  {
   "cell_type": "markdown",
   "id": "62d7c411",
   "metadata": {
    "id": "62d7c411"
   },
   "source": [
    "\n",
    "## Q9 (3 points)\n",
    "In which domain(eg. Agriculture) other than space would you like to apply the concepts you have learned so far and how ?\n",
    "(Atleast 100 Words)"
   ]
  },
  {
   "cell_type": "code",
   "execution_count": 33,
   "id": "065d70e9",
   "metadata": {
    "id": "065d70e9"
   },
   "outputs": [
    {
     "name": "stdout",
     "output_type": "stream",
     "text": [
      "I would like to apply this ML concept on solving real world problems especially in '\n",
      "'Electric vehicles Batterymanagement system\n"
     ]
    }
   ],
   "source": [
    "# Put your thoughts\n",
    "\n",
    "your_answer = \"I would like to apply this ML concept on solving real world problems especially in '\\n'Electric vehicles Batterymanagement system\" \n",
    "\n",
    "print(your_answer)"
   ]
  },
  {
   "cell_type": "markdown",
   "id": "cfe070fa",
   "metadata": {
    "id": "cfe070fa"
   },
   "source": [
    "## Q10 (2 points)\n",
    "If you are given a chance to be a part of any space mission, which one it could be ? and why do you want to be a part of it?(Atleast 100 Words)"
   ]
  },
  {
   "cell_type": "code",
   "execution_count": 34,
   "id": "8f73aa00",
   "metadata": {
    "colab": {
     "base_uri": "https://localhost:8080/"
    },
    "id": "8f73aa00",
    "outputId": "69ec5002-a5a9-4935-a3a3-8cb7bbbd394f"
   },
   "outputs": [
    {
     "name": "stdout",
     "output_type": "stream",
     "text": [
      " Space X star ship bcz space x is the one use reusable transportation system\n"
     ]
    }
   ],
   "source": [
    "# print your answer\n",
    "\n",
    "your_answer = \" Space X star ship bcz space x is the one use reusable transportation system\" \n",
    "\n",
    "print(your_answer)"
   ]
  },
  {
   "cell_type": "markdown",
   "id": "MZEjycZWIVm2",
   "metadata": {
    "id": "MZEjycZWIVm2"
   },
   "source": [
    "##Thank you for completing all the questions!\n",
    "####Download your notebook and submit it in the google form"
   ]
  }
 ],
 "metadata": {
  "colab": {
   "collapsed_sections": [],
   "name": "Week-2- Assignment.ipynb",
   "provenance": [],
   "toc_visible": true
  },
  "kernelspec": {
   "display_name": "Python 3 (ipykernel)",
   "language": "python",
   "name": "python3"
  },
  "language_info": {
   "codemirror_mode": {
    "name": "ipython",
    "version": 3
   },
   "file_extension": ".py",
   "mimetype": "text/x-python",
   "name": "python",
   "nbconvert_exporter": "python",
   "pygments_lexer": "ipython3",
   "version": "3.9.7"
  }
 },
 "nbformat": 4,
 "nbformat_minor": 5
}
