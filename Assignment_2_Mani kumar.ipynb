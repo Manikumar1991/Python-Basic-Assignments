{
 "cells": [
  {
   "cell_type": "markdown",
   "id": "283c72e8",
   "metadata": {},
   "source": [
    "1.What are the two values of the Boolean data type? How do you write them?\n",
    "\n",
    "Boolean data types in python are \"True\" and \"False\" or 0 and 1"
   ]
  },
  {
   "cell_type": "markdown",
   "id": "8b04c5ee",
   "metadata": {},
   "source": [
    "2. What are the three different types of Boolean operators?\n",
    "Boolean opeators in python \"are and,or,not\""
   ]
  },
  {
   "cell_type": "markdown",
   "id": "45d49899",
   "metadata": {},
   "source": [
    "3. Make a list of each Boolean operator's truth tables \n",
    "(i.e. every possible combination of Boolean values for the operator and what it evaluate ).\n",
    "\n",
    "And operator:\n",
    "    True and True = True\n",
    "    True and False = False\n",
    "    False and True = False\n",
    "    False and False = False\n",
    "Or operator:\n",
    "    True or True = True\n",
    "    True or False = True\n",
    "    False or True = True\n",
    "    False or False = False\n",
    "Not operator:\n",
    "    not(True) = False\n",
    "    not(False) = True\n",
    "    \n",
    "    \n",
    "\n"
   ]
  },
  {
   "cell_type": "code",
   "execution_count": 8,
   "id": "67a19cec",
   "metadata": {},
   "outputs": [
    {
     "data": {
      "text/plain": [
       "False"
      ]
     },
     "execution_count": 8,
     "metadata": {},
     "output_type": "execute_result"
    }
   ],
   "source": [
    "\"\"\"4. What are the values of the following expressions?\n",
    "(5 > 4) and (3 == 5)\n",
    "not (5 > 4)\n",
    "(5 > 4) or (3 == 5)\n",
    "not ((5 > 4) or (3 == 5))\n",
    "(True and True) and (True == False)\n",
    "(not False) or (not True)\n",
    "\"\"\"\n",
    "(5 > 4) and (3 == 5)"
   ]
  },
  {
   "cell_type": "code",
   "execution_count": 2,
   "id": "f84b031c",
   "metadata": {},
   "outputs": [
    {
     "data": {
      "text/plain": [
       "False"
      ]
     },
     "execution_count": 2,
     "metadata": {},
     "output_type": "execute_result"
    }
   ],
   "source": [
    "not (5 > 4)"
   ]
  },
  {
   "cell_type": "code",
   "execution_count": 4,
   "id": "9d250415",
   "metadata": {},
   "outputs": [
    {
     "data": {
      "text/plain": [
       "True"
      ]
     },
     "execution_count": 4,
     "metadata": {},
     "output_type": "execute_result"
    }
   ],
   "source": [
    "(5 > 4) or (3 == 5)"
   ]
  },
  {
   "cell_type": "code",
   "execution_count": 5,
   "id": "99d47d38",
   "metadata": {},
   "outputs": [
    {
     "data": {
      "text/plain": [
       "False"
      ]
     },
     "execution_count": 5,
     "metadata": {},
     "output_type": "execute_result"
    }
   ],
   "source": [
    "not ((5 > 4) or (3 == 5))"
   ]
  },
  {
   "cell_type": "code",
   "execution_count": 6,
   "id": "04f4107f",
   "metadata": {},
   "outputs": [
    {
     "data": {
      "text/plain": [
       "False"
      ]
     },
     "execution_count": 6,
     "metadata": {},
     "output_type": "execute_result"
    }
   ],
   "source": [
    "(True and True) and (True == False)"
   ]
  },
  {
   "cell_type": "code",
   "execution_count": 7,
   "id": "1b39a421",
   "metadata": {},
   "outputs": [
    {
     "data": {
      "text/plain": [
       "True"
      ]
     },
     "execution_count": 7,
     "metadata": {},
     "output_type": "execute_result"
    }
   ],
   "source": [
    "(not False) or (not True)"
   ]
  },
  {
   "cell_type": "markdown",
   "id": "54d7333b",
   "metadata": {},
   "source": [
    "5. What are the six comparison operators?\n",
    "\n",
    "Python has six comparison operators: \n",
    "1.less than (<)\n",
    "2.less than or equal to (<=)\n",
    "3.greater than (>)\n",
    "4.greater than or equal to (>=)\n",
    "5.equal to (==)\n",
    "6.not equal to (!=)."
   ]
  },
  {
   "cell_type": "markdown",
   "id": "46cddb0d",
   "metadata": {},
   "source": [
    "6. How do you tell the difference between the equal to and assignment operators?Describe a condition and when you would use one.\n",
    "\n",
    "Equality operators:\n",
    "The ‘==’ operator checks whether the two given operands are equal or not. If so, it returns true. Otherwise it returns false.we can apply this operand to any data types\n",
    "\n",
    "Example:\n",
    "5==5------>True\n",
    "'python'=='code'----->False\n",
    "\n",
    "Assignment opertor:\n",
    "The “=” is an assignment operator is used to assign the value on the right to the variable on the left.\n",
    "Right hand side cannot start with integer and dont use special characters except underscor(_).\n",
    "\n",
    "rules for defining variable are:\n",
    "1.starts with upper and lower case alphabet\n",
    "2.digits(0-9)\n",
    "3.underscore(_)\n",
    "\n",
    "\n",
    "example:\n",
    "valid assignment operator:\n",
    "a=5\n",
    "b=\"Ineuron\"\n",
    "_abc=10\n",
    "\n",
    "Invalid assignment operator:\n",
    "\n",
    "ca$h=10\n",
    "01fd=2\n"
   ]
  },
  {
   "cell_type": "code",
   "execution_count": 12,
   "id": "244c09d0",
   "metadata": {},
   "outputs": [
    {
     "name": "stdout",
     "output_type": "stream",
     "text": [
      "ham\n",
      "spam\n",
      "spam\n"
     ]
    }
   ],
   "source": [
    "#7. Identify the three blocks in this code:\n",
    "\n",
    "#Here we used If else conditional operators and assignment operators to check\n",
    "spam = 0\n",
    "if spam == 10: \n",
    "    print('eggs')\n",
    "if spam > 5:\n",
    "    print('bacon')\n",
    "else:\n",
    "    print('ham')\n",
    "    print('spam')\n",
    "    print('spam')\n"
   ]
  },
  {
   "cell_type": "code",
   "execution_count": 18,
   "id": "2a5cf7be",
   "metadata": {},
   "outputs": [
    {
     "name": "stdout",
     "output_type": "stream",
     "text": [
      "Enter the value:1\n",
      "Hello\n"
     ]
    }
   ],
   "source": [
    "\"\"\"8. Write code that prints #Hello if 1 is stored in spam, prints Howdy if 2 is stored in spam,\n",
    "and prints Greetings! if anything else is stored in spam.\"\"\"\n",
    "\n",
    "spam=eval(input(\"Enter the value:\"))\n",
    "if spam==1:\n",
    "    print(\"Hello\")\n",
    "elif spam==2:\n",
    "    print(\"Howdy\")\n",
    "else:\n",
    "    print(\"Print Greetings\")"
   ]
  },
  {
   "cell_type": "markdown",
   "id": "59cac208",
   "metadata": {},
   "source": [
    "9.If your programme is stuck in an endless loop, what keys you’ll press?\n",
    "\n",
    "\n",
    "Ctrl+C"
   ]
  },
  {
   "cell_type": "code",
   "execution_count": 23,
   "id": "e5c74d55",
   "metadata": {},
   "outputs": [
    {
     "name": "stdout",
     "output_type": "stream",
     "text": [
      "0\n",
      "1\n",
      "2\n",
      "3\n",
      "4\n",
      "5\n",
      "6\n",
      "Processing is enough we reached i==7...please break\n",
      "#################\n",
      "1\n",
      "3\n",
      "5\n",
      "7\n",
      "9\n"
     ]
    }
   ],
   "source": [
    "\"\"\"\n",
    "10. How can you tell the difference between break and continue?\n",
    "\n",
    "Break:\n",
    "we can use \"break statement\" inside loops to break loop execution based on some condition\n",
    "\"\"\"\n",
    "\n",
    "for i in range(10):\n",
    "    if i==7:\n",
    "        print(\"Processing is enough we reached i==7...please break\")\n",
    "        break\n",
    "    print(i)  \n",
    "    \n",
    "\"\"\"\n",
    "Continue:\n",
    "    We can use \"continue statement\" to skip current iteration and continue next iteration\n",
    "\"\"\" \n",
    "\n",
    "print(\"#################\")\n",
    "\n",
    "for i in range(10):\n",
    "    if i%2==0:\n",
    "        continue\n",
    "    print(i)    "
   ]
  },
  {
   "cell_type": "code",
   "execution_count": 29,
   "id": "b30eb1b9",
   "metadata": {},
   "outputs": [
    {
     "name": "stdout",
     "output_type": "stream",
     "text": [
      "0\n",
      "1\n",
      "2\n",
      "3\n",
      "4\n",
      "5\n",
      "6\n",
      "7\n",
      "8\n",
      "9\n",
      "######################\n",
      "0\n",
      "1\n",
      "2\n",
      "3\n",
      "4\n",
      "5\n",
      "6\n",
      "7\n",
      "8\n",
      "9\n",
      "######################\n",
      "0\n",
      "1\n",
      "2\n",
      "3\n",
      "4\n",
      "5\n",
      "6\n",
      "7\n",
      "8\n",
      "9\n"
     ]
    }
   ],
   "source": [
    "#11. In a for loop, what is the difference between range(10), range(0, 10), and range(0, 10, 1)?\n",
    "\n",
    "#syntax of range function is range(start,end,stepzize)\n",
    "\n",
    "for i in range(10): # here range(10) means by default it starts with 0\n",
    "    print(i)\n",
    "    \n",
    "print(\"######################\") \n",
    "for i in range(0,10):# here range(0,10) means by default it starts with 0 and 10\n",
    "    print(i)\n",
    "    \n",
    "print(\"######################\")# here range(0,10,1) means by default it starts with 0, ends with 10 and step size 1\n",
    "for i in range(0,10,1):\n",
    "    print(i)    "
   ]
  },
  {
   "cell_type": "code",
   "execution_count": 1,
   "id": "50abe59c",
   "metadata": {},
   "outputs": [
    {
     "name": "stdout",
     "output_type": "stream",
     "text": [
      "Enter the number:10\n",
      "0\n",
      "1\n",
      "2\n",
      "3\n",
      "4\n",
      "5\n",
      "6\n",
      "7\n",
      "8\n",
      "9\n"
     ]
    }
   ],
   "source": [
    "\"\"\"12. Write a short program that prints the numbers 1 to 10 using a for loop. \n",
    "Then write an equivalent program that prints the numbers 1 to 10 using a while loop.\"\"\"\n",
    "\n",
    "num=eval(input(\"Enter the number:\"))\n",
    "i=0\n",
    "while i<num:\n",
    "    print(i)\n",
    "    i=i+1"
   ]
  },
  {
   "cell_type": "markdown",
   "id": "faafbe3f",
   "metadata": {},
   "source": [
    "\"\"\"13. If you had a function named bacon() inside a module named spam, \n",
    "how would you call it after importing spam?\"\"\"\n",
    "\n",
    "\n",
    "from spam import bacon\n",
    "or\n",
    "we can call as spam.bacon()"
   ]
  }
 ],
 "metadata": {
  "kernelspec": {
   "display_name": "Python 3 (ipykernel)",
   "language": "python",
   "name": "python3"
  },
  "language_info": {
   "codemirror_mode": {
    "name": "ipython",
    "version": 3
   },
   "file_extension": ".py",
   "mimetype": "text/x-python",
   "name": "python",
   "nbconvert_exporter": "python",
   "pygments_lexer": "ipython3",
   "version": "3.9.7"
  }
 },
 "nbformat": 4,
 "nbformat_minor": 5
}
