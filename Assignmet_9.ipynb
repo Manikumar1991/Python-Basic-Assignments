{
 "cells": [
  {
   "cell_type": "code",
   "execution_count": 3,
   "id": "507f0e3c",
   "metadata": {},
   "outputs": [
    {
     "name": "stdout",
     "output_type": "stream",
     "text": [
      "py\\logging\\log.txt\n"
     ]
    }
   ],
   "source": [
    "#1. To what does a relative path refer?\n",
    "'''\n",
    "os.path.relpath() method in Python is used to get a relative filepath to the given path either from \n",
    "the current working directory or from the given directory.\n",
    "'''\n",
    "import os\n",
    "relative_path=os.path.relpath(r'F:\\Mani kumar\\py\\logging\\log.txt','F:\\Mani kumar')\n",
    "print(relative_path)"
   ]
  },
  {
   "cell_type": "code",
   "execution_count": 15,
   "id": "95eded7e",
   "metadata": {},
   "outputs": [
    {
     "name": "stdout",
     "output_type": "stream",
     "text": [
      "C:\\Users\\Admin\\1.Ineuron\\Assignments\\Python Basic Assignmnet\\Assignment_9.ipyb\n"
     ]
    }
   ],
   "source": [
    "#2.What does an absolute path start with your operating system?\n",
    "'''\n",
    "An absolute path of a file is the complete path from the root directory to that particular file\n",
    "'''\n",
    "import os\n",
    "absolutepath = os.path.abspath('Assignment_9.ipyb')\n",
    "print(absolutepath)"
   ]
  },
  {
   "cell_type": "code",
   "execution_count": null,
   "id": "c392e736",
   "metadata": {},
   "outputs": [],
   "source": [
    "#3.What do the functions os.getcwd() and os.chdir() do?\n",
    "'''\n",
    "getcwd(): CWD stands for Current Working Directory. This function allows you to see what your current working directory is.\n",
    "chdir(\"path-to-dir\"): Short for CHange DIRectory, this function allows you to set the current working directory to a \n",
    "path of your choice.\n",
    "'''"
   ]
  },
  {
   "cell_type": "code",
   "execution_count": null,
   "id": "db87b780",
   "metadata": {},
   "outputs": [],
   "source": [
    "#4.What are the . and .. folders?\n",
    "'''\n",
    "The . folder is the current folder, and .. is the parent folder.\n",
    "'''"
   ]
  },
  {
   "cell_type": "code",
   "execution_count": null,
   "id": "f03c29a0",
   "metadata": {},
   "outputs": [],
   "source": [
    "#5.In C:\\bacon\\eggs\\spam.txt, which part is the dir name, and which part is the base name?\n",
    "'''\n",
    "C:\\bacon\\eggs is the dir name, \n",
    "while spam.txt is the base name.\n",
    "'''"
   ]
  },
  {
   "cell_type": "code",
   "execution_count": null,
   "id": "165d32ac",
   "metadata": {},
   "outputs": [],
   "source": [
    "#7.What happens if an existing file is opened in write mode?\n",
    "'''\n",
    "An existing file opened in write mode is erased and completely overwritten.\n",
    "'''"
   ]
  },
  {
   "cell_type": "code",
   "execution_count": null,
   "id": "63545dd4",
   "metadata": {},
   "outputs": [],
   "source": [
    "#8. How do you tell the difference between read() and readlines()?\n",
    "'''\n",
    "The read() method returns the file's entire contents as a single string value. \n",
    "The readlines() method returns a list of strings, where each string is a line from the file's contents.\n",
    "'''"
   ]
  },
  {
   "cell_type": "code",
   "execution_count": null,
   "id": "bde997cb",
   "metadata": {},
   "outputs": [],
   "source": [
    "#9.What data structure does a shelf value resemble?\n",
    "'''\n",
    "A shelf value resembles a dictionary value; it has keys and values, along with keys() and values() methods that \n",
    "work similarly to the dictionary methods of the same names.\n",
    "'''"
   ]
  }
 ],
 "metadata": {
  "kernelspec": {
   "display_name": "Python 3 (ipykernel)",
   "language": "python",
   "name": "python3"
  },
  "language_info": {
   "codemirror_mode": {
    "name": "ipython",
    "version": 3
   },
   "file_extension": ".py",
   "mimetype": "text/x-python",
   "name": "python",
   "nbconvert_exporter": "python",
   "pygments_lexer": "ipython3",
   "version": "3.9.7"
  }
 },
 "nbformat": 4,
 "nbformat_minor": 5
}
