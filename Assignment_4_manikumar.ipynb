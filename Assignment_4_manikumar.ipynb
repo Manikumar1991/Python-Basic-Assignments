{
 "cells": [
  {
   "cell_type": "markdown",
   "id": "1759e424",
   "metadata": {},
   "source": [
    "#1. What exactly is []?\n",
    "Empty list can be defined as \n",
    "l=[]"
   ]
  },
  {
   "cell_type": "code",
   "execution_count": 1,
   "id": "20cb4318",
   "metadata": {},
   "outputs": [
    {
     "data": {
      "text/plain": [
       "[2, 4, 'hello', 8, 10]"
      ]
     },
     "execution_count": 1,
     "metadata": {},
     "output_type": "execute_result"
    }
   ],
   "source": [
    "'''2. In a list of values stored in a variable called spam, \n",
    "how would you assign the value 'hello' as the third value? (Assume [2, 4, 6, 8, 10] are in spam.)'''\n",
    "spam=[2, 4, 6, 8, 10]\n",
    "spam[2]='hello' #indexing and assign\n",
    "spam"
   ]
  },
  {
   "cell_type": "code",
   "execution_count": 56,
   "id": "2f4742fc",
   "metadata": {},
   "outputs": [
    {
     "data": {
      "text/plain": [
       "'d'"
      ]
     },
     "execution_count": 56,
     "metadata": {},
     "output_type": "execute_result"
    }
   ],
   "source": [
    "#3. What is the value of spam[int(int('3' * 2) / 11)]?\n",
    "spam = ['a', 'b', 'c', 'd'] \n",
    "spam[int(int('3' * 2) / 11)]"
   ]
  },
  {
   "cell_type": "code",
   "execution_count": 57,
   "id": "33abc967",
   "metadata": {},
   "outputs": [
    {
     "data": {
      "text/plain": [
       "'d'"
      ]
     },
     "execution_count": 57,
     "metadata": {},
     "output_type": "execute_result"
    }
   ],
   "source": [
    "#4. What is the value of spam[-1]?\n",
    "spam =['a', 'b', 'c', 'd'] \n",
    "spam[-1]"
   ]
  },
  {
   "cell_type": "code",
   "execution_count": 58,
   "id": "ea506f75",
   "metadata": {},
   "outputs": [
    {
     "data": {
      "text/plain": [
       "['a', 'b']"
      ]
     },
     "execution_count": 58,
     "metadata": {},
     "output_type": "execute_result"
    }
   ],
   "source": [
    "#5. What is the value of spam[:2]?\n",
    "spam[:2]"
   ]
  },
  {
   "cell_type": "code",
   "execution_count": 59,
   "id": "b4aeca8d",
   "metadata": {},
   "outputs": [
    {
     "data": {
      "text/plain": [
       "1"
      ]
     },
     "execution_count": 59,
     "metadata": {},
     "output_type": "execute_result"
    }
   ],
   "source": [
    "#Let's pretend bacon has the list [3.14, 'cat,' 11, 'cat,' True] for the next three questions.\n",
    "#6. What is the value of bacon.index('cat')?\n",
    "bacon = [3.14, 'cat', 11, 'cat', True]\n",
    "bacon.index('cat')"
   ]
  },
  {
   "cell_type": "code",
   "execution_count": 2,
   "id": "634673ee",
   "metadata": {},
   "outputs": [
    {
     "data": {
      "text/plain": [
       "[3.14, 'cat', 11, 'cat', True, 99]"
      ]
     },
     "execution_count": 2,
     "metadata": {},
     "output_type": "execute_result"
    }
   ],
   "source": [
    "#7. How does bacon.append(99) change the look of the list value in bacon?\n",
    "bacon.append(99)\n",
    "bacon"
   ]
  },
  {
   "cell_type": "code",
   "execution_count": 3,
   "id": "267b3f30",
   "metadata": {},
   "outputs": [
    {
     "data": {
      "text/plain": [
       "[3.14, 11, 'cat', True, 99]"
      ]
     },
     "execution_count": 3,
     "metadata": {},
     "output_type": "execute_result"
    }
   ],
   "source": [
    "#8. How does bacon.remove('cat') change the look of the list in bacon?\n",
    "bacon.remove('cat')\n",
    "bacon"
   ]
  },
  {
   "cell_type": "code",
   "execution_count": 5,
   "id": "ae076acb",
   "metadata": {},
   "outputs": [
    {
     "data": {
      "text/plain": [
       "[1, 2, 3, 'p', 'q', 'r']"
      ]
     },
     "execution_count": 5,
     "metadata": {},
     "output_type": "execute_result"
    }
   ],
   "source": [
    "#9. What are the list concatenation and list replication operators?\n",
    "\n",
    "l1=[1,2,3]\n",
    "l2=['p','q','r']\n",
    "\n",
    "#list concatenation  operator (+)\n",
    "l=l1+l2\n",
    "l"
   ]
  },
  {
   "cell_type": "code",
   "execution_count": 8,
   "id": "0d818b94",
   "metadata": {},
   "outputs": [
    {
     "data": {
      "text/plain": [
       "'PythonPythonPython'"
      ]
     },
     "execution_count": 8,
     "metadata": {},
     "output_type": "execute_result"
    }
   ],
   "source": [
    "#replication operator (*)\n",
    "x='Python'\n",
    "lr=x*3\n",
    "lr"
   ]
  },
  {
   "cell_type": "code",
   "execution_count": 9,
   "id": "d5ad98a0",
   "metadata": {},
   "outputs": [
    {
     "data": {
      "text/plain": [
       "['python', 'ineuron', 3, 'key', 999]"
      ]
     },
     "execution_count": 9,
     "metadata": {},
     "output_type": "execute_result"
    }
   ],
   "source": [
    "#10. What is difference between the list methods append() and insert()?\n",
    "\n",
    "lst=[\"python\",'ineuron',3,'key']\n",
    "lst.append(999)      # append function to add item at the end of the list\n",
    "lst"
   ]
  },
  {
   "cell_type": "code",
   "execution_count": 10,
   "id": "1de0b126",
   "metadata": {},
   "outputs": [
    {
     "data": {
      "text/plain": [
       "['String', 'python', 'ineuron', 3, 'key', 999]"
      ]
     },
     "execution_count": 10,
     "metadata": {},
     "output_type": "execute_result"
    }
   ],
   "source": [
    "lst.insert(0,'String')  # insert function to add item at the sepecified index position\n",
    "lst"
   ]
  },
  {
   "cell_type": "code",
   "execution_count": 11,
   "id": "e7e71766",
   "metadata": {},
   "outputs": [
    {
     "data": {
      "text/plain": [
       "'The similarity between Lists and Strings in Python is that both are sequences. \\n  The differences between them are that firstly, Lists are mutable but Strings are immutable. \\n  Secondly, elements of a list can be of differenttypes \\n  whereas a String only contains characters that are all of String type.'"
      ]
     },
     "execution_count": 11,
     "metadata": {},
     "output_type": "execute_result"
    }
   ],
   "source": [
    "#12. Describe how list values and string values are identical.\n",
    "\n",
    "'''The similarity between Lists and Strings in Python is that both are sequences. \n",
    "  The differences between them are that firstly, Lists are mutable but Strings are immutable. \n",
    "  Secondly, elements of a list can be of differenttypes \n",
    "  whereas a String only contains characters that are all of String type.'''"
   ]
  },
  {
   "cell_type": "code",
   "execution_count": null,
   "id": "7ffd85b3",
   "metadata": {},
   "outputs": [],
   "source": [
    "#13. What's the difference between tuples and lists?\n",
    "\n",
    "\"\"\"\n",
    "List:\n",
    "1.Group of individual elements as a single entity\n",
    "2.It is mutable, we can add and remove elements\n",
    "3.Heteogeneous objects are allowed\n",
    "4.Python supports both positive and negative indexes\n",
    "5.Empty list =[]\n",
    "\n",
    "Tuple:\n",
    "1.Tuple excatly same as list except that it is immutable\n",
    "2.Once we can create tuple we cannot perform any changes in that object\n",
    "3.Heterogeneous objects are allowed\n",
    "4.Python supports both positive and negative indexes\n",
    "5.Empty tuple =()\"\"\""
   ]
  },
  {
   "cell_type": "code",
   "execution_count": 14,
   "id": "eb4baa88",
   "metadata": {},
   "outputs": [
    {
     "name": "stdout",
     "output_type": "stream",
     "text": [
      "<class 'tuple'>\n"
     ]
    }
   ],
   "source": [
    "#14. How do you type a tuple value that only contains the integer 42?\n",
    "t=(4,0)\n",
    "print(type(t))"
   ]
  },
  {
   "cell_type": "code",
   "execution_count": 32,
   "id": "3b51eccc",
   "metadata": {},
   "outputs": [
    {
     "name": "stdout",
     "output_type": "stream",
     "text": [
      "[(1,), ('python',), ('code',), (4,)]\n"
     ]
    }
   ],
   "source": [
    "#15. How do you get a list value's tuple form? How do you get a tuple value's list form?\n",
    "\n",
    "lst=[1,'python','code',4]\n",
    "lst_tuple = [x for x in zip([*iter(lst)])]\n",
    "print(lst_tuple)"
   ]
  },
  {
   "cell_type": "code",
   "execution_count": 43,
   "id": "44a0a3eb",
   "metadata": {},
   "outputs": [
    {
     "name": "stdout",
     "output_type": "stream",
     "text": [
      "<class 'list'>\n"
     ]
    }
   ],
   "source": [
    "#16. Variables that \"contain\" list values are not necessarily lists themselves. Instead, what do they contain?\n",
    "var=[1,2,3,['p','q'],{'key':'value'},2+3j,('w','l')] #it contains list, tuples,dictionary,complex all data types\n",
    "var\n",
    "print(type(var))"
   ]
  },
  {
   "cell_type": "code",
   "execution_count": 53,
   "id": "1b8881c7",
   "metadata": {},
   "outputs": [
    {
     "name": "stdout",
     "output_type": "stream",
     "text": [
      "[100, 'python', 300, 400] and id  2508893536704\n",
      "[100, 'Ineuron', 300, 400] and id  2508893490496\n"
     ]
    }
   ],
   "source": [
    "#17. How do you distinguish between copy.copy() and copy.deepcopy()?\n",
    "'''\n",
    "shallow copy()\n",
    "A shallow copy means constructing a new collection object and then populating it with references to the child objects \n",
    "found in the original. The copying process does not recurse and therefore won’t create copies of the child objects \n",
    "themselves. In case of shallow copy, a reference of object is copied in other object. It means that any changes made \n",
    "to a copy of object do reflect in the original object. In python, this is implemented using “copy()” function'''\n",
    "import copy\n",
    "l=[100,200,300,400]\n",
    "l1=copy.copy(l)  # copy() function mean for cloning\n",
    "l[1]='python'\n",
    "l1[1]='Ineuron'\n",
    "print(l,'and id ',id(l))\n",
    "print(l1,'and id ',id(l1))"
   ]
  },
  {
   "cell_type": "code",
   "execution_count": 55,
   "id": "8b820d6a",
   "metadata": {},
   "outputs": [
    {
     "name": "stdout",
     "output_type": "stream",
     "text": [
      "[100, 'python', 300, 400]\n",
      "[100, 'laptop', 300, 400]\n"
     ]
    }
   ],
   "source": [
    "#deepcopy()\n",
    "'''Deep copy is a process in which the copying process occurs recursively. \n",
    "    It means first constructing a new collection object and then recursively populating it with copies \n",
    "    of the child objects found in the original. In case of deep copy, a copy of object is copied in other object. \n",
    "    It means that any changes made to a copy of object do not reflect in the original object. \n",
    "    In python, this is implemented using “deepcopy()” function.'''\n",
    "l2=copy.deepcopy(l)\n",
    "l2[1]='laptop'\n",
    "print(l)\n",
    "print(l2)"
   ]
  }
 ],
 "metadata": {
  "kernelspec": {
   "display_name": "Python 3 (ipykernel)",
   "language": "python",
   "name": "python3"
  },
  "language_info": {
   "codemirror_mode": {
    "name": "ipython",
    "version": 3
   },
   "file_extension": ".py",
   "mimetype": "text/x-python",
   "name": "python",
   "nbconvert_exporter": "python",
   "pygments_lexer": "ipython3",
   "version": "3.9.7"
  }
 },
 "nbformat": 4,
 "nbformat_minor": 5
}
