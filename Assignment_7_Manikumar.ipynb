{
  "nbformat": 4,
  "nbformat_minor": 0,
  "metadata": {
    "colab": {
      "name": "Assignment_6.ipynb",
      "provenance": [],
      "collapsed_sections": []
    },
    "kernelspec": {
      "name": "python3",
      "display_name": "Python 3"
    },
    "language_info": {
      "name": "python"
    }
  },
  "cells": [
    {
      "cell_type": "code",
      "execution_count": null,
      "metadata": {
        "id": "fnddaVvy8dkH"
      },
      "outputs": [],
      "source": [
        "#1. What is the name of the feature responsible for generating Regex objects?\n",
        "\n",
        "'''\n",
        "Answer:\n",
        "The re.compile() function returns Regex objects.\n",
        "'''"
      ]
    },
    {
      "cell_type": "markdown",
      "source": [
        ""
      ],
      "metadata": {
        "id": "K6nCHCvE8nvk"
      }
    },
    {
      "cell_type": "code",
      "source": [
        "2. Why do raw strings often appear in Regex objects?\n",
        "\n",
        "'''\n",
        "Answer:\n",
        "Raw strings are used so that backslashes do not have to be escaped.\n",
        "'''"
      ],
      "metadata": {
        "id": "7ZHPF2z58o0M"
      },
      "execution_count": null,
      "outputs": []
    },
    {
      "cell_type": "code",
      "source": [
        "#3. What is the return value of the search() method?\n",
        "'''\n",
        "Answer:\n",
        "The search method return matching objects'''"
      ],
      "metadata": {
        "id": "XRa-l2sW96GZ"
      },
      "execution_count": null,
      "outputs": []
    },
    {
      "cell_type": "code",
      "source": [
        "#4. From a Match item, how do you get the actual strings that match the pattern?\n",
        "'''Answer:\n",
        "The group() method returns the actual strings that match the pattern'''"
      ],
      "metadata": {
        "id": "pBaIKiS4-FzQ"
      },
      "execution_count": null,
      "outputs": []
    },
    {
      "cell_type": "code",
      "source": [
        "#5. In the regex which created from the r'(\\d\\d\\d)-(\\d\\d\\d-\\d\\d\\d\\d)', what does group zero cover? Group 2? Group 1?\n",
        "'''\n",
        "Answer:\n",
        "Group 0:entire match\n",
        "group 1:covers the first set of parentheses\n",
        "group 2 :covers the second set of parentheses.\n",
        "'''\n",
        "\n",
        "#Answer : Periods and parentheses can be escaped with a backslash: \\., \\(, and \\)."
      ],
      "metadata": {
        "id": "uDSINnO9AI6o"
      },
      "execution_count": null,
      "outputs": []
    },
    {
      "cell_type": "code",
      "source": [
        "'''\n",
        "6. In standard expression syntax, parentheses and intervals have distinct meanings. \n",
        "How can you tell a regex that you want it to fit real parentheses and periods?\n",
        "\n",
        "\n",
        "Answer : Periods and parentheses can be escaped with a backslash: \\., \\(, and \\).\n",
        "'''"
      ],
      "metadata": {
        "id": "2Y8BTMhsBn96"
      },
      "execution_count": null,
      "outputs": []
    },
    {
      "cell_type": "code",
      "source": [
        "#7. The findall() method returns a string list or a list of string tuples. What causes it to return one of the two options?\n",
        "'''\n",
        "Answer:\n",
        "\n",
        "If the regex has no groups, a list of strings is returned. If the regex has groups, a list of tuples of strings is returned.\n",
        "'''"
      ],
      "metadata": {
        "id": "_3U9yg3HCaCA"
      },
      "execution_count": null,
      "outputs": []
    },
    {
      "cell_type": "code",
      "source": [
        "#8. In standard expressions, what does the | character mean?\n",
        "'''The | character signifies matching \"either, or\" between two groups'''\n",
        "import re\n",
        "\n",
        "txt = \"The rain in Spain falls mainly in the plain!\"\n",
        "\n",
        "#Check if the string contains either \"falls\" or \"stays\":\n",
        "\n",
        "x = re.findall(\"falls|stays\", txt)\n",
        "\n",
        "print(x)\n",
        "\n",
        "if x:\n",
        "  print(\"Yes, there is at least one match!\")\n",
        "else:\n",
        "  print(\"No match\")"
      ],
      "metadata": {
        "colab": {
          "base_uri": "https://localhost:8080/"
        },
        "id": "tL1_FhCmCr00",
        "outputId": "5011cd0e-558a-456c-874c-9e102cc41997"
      },
      "execution_count": null,
      "outputs": [
        {
          "output_type": "stream",
          "name": "stdout",
          "text": [
            "['falls']\n",
            "Yes, there is at least one match!\n"
          ]
        }
      ]
    },
    {
      "cell_type": "code",
      "source": [
        "#9. In regular expressions, what does the character stand for?\n",
        "'''character (?) stands for  \"zero or one occurances\" '''\n",
        "import re\n",
        "\n",
        "txt1 = \"Hello FSDS Ineuron\"\n",
        "#Search for a sequence that starts with \"he\", followed by 0 or 1  (any) character, and an \"o\":\n",
        "x = re.findall(\"FS.........?n\", txt1)\n",
        "\n",
        "print(x)"
      ],
      "metadata": {
        "colab": {
          "base_uri": "https://localhost:8080/"
        },
        "id": "9lnlZKu6DNAv",
        "outputId": "8486f48e-749f-42b0-a873-c74703e8f6c2"
      },
      "execution_count": null,
      "outputs": [
        {
          "output_type": "stream",
          "name": "stdout",
          "text": [
            "['FSDS Ineuron']\n"
          ]
        }
      ]
    },
    {
      "cell_type": "code",
      "source": [
        "#10.In regular expressions, what is the difference between the + and * characters?\n",
        "\n",
        "# ' + ' ----->One or more occurrences\n",
        "txt2 = \"Hello python\"\n",
        "x = re.findall(\"He.+o\", txt2)  # 'o' found 2 times thats why it prints\n",
        "print('The \"+\" operator',x)\n",
        "\n",
        "#'*'-------> zero or one occurrences\n",
        "y = re.findall(\"He.*o\", txt2)\n",
        "print('The \"*\" operator',y)\n"
      ],
      "metadata": {
        "colab": {
          "base_uri": "https://localhost:8080/"
        },
        "id": "d3yHKa23D7BK",
        "outputId": "abfbc69f-e57e-4637-923c-2a5099bed9bb"
      },
      "execution_count": null,
      "outputs": [
        {
          "output_type": "stream",
          "name": "stdout",
          "text": [
            "The \"+\" operator ['Hello pytho']\n",
            "The \"*\" operator ['Hello pytho']\n"
          ]
        }
      ]
    },
    {
      "cell_type": "code",
      "source": [
        "#11. What is the difference between {4} and {4,5} in regular expression?\n",
        "'''The {3} matches exactly three instances of the preceding group. The {3,5} matches between three and five instances.'''\n",
        "\n",
        "import re\n",
        "Regex = re.compile(r'(Ha){3}')\n",
        "mo1 = Regex.search('HaHaHa')\n",
        "print(mo1.group())\n",
        "\n",
        "print('##############')\n",
        "Regex1=re.compile(r'(Ha){1,4}')\n",
        "m2=Regex1.search('HaHaHaHaHa HaHaHa')\n",
        "print(m2.group())"
      ],
      "metadata": {
        "colab": {
          "base_uri": "https://localhost:8080/"
        },
        "id": "R-2l7moJJb0h",
        "outputId": "83c32fed-89c6-46bd-8850-3eec3d5b83f3"
      },
      "execution_count": null,
      "outputs": [
        {
          "output_type": "stream",
          "name": "stdout",
          "text": [
            "HaHaHa\n",
            "##############\n",
            "HaHaHaHa\n"
          ]
        }
      ]
    },
    {
      "cell_type": "code",
      "source": [
        "#12. What do you mean by the \\d, \\w, and \\s shorthand character classes signify in regular expressions?\n",
        "\n",
        "'''\n",
        "\\s white space character\n",
        "\\d single digit (0-9)\n",
        "\\w  Returns a match where the string contains any word characters (characters from a to Z, digits from 0-9, and the underscore _ character)\n",
        "'''\n",
        "import re\n",
        "\n",
        "txt = \"Python Ineuron class\"\n",
        "\n",
        "#Return a match at every white-space character:\n",
        "\n",
        "x = re.findall(\"\\s\", txt)\n",
        "\n",
        "print(x)\n",
        "\n",
        "if x:\n",
        "  print(\"Yes, there is at least one match!\")\n",
        "else:\n",
        "  print(\"No match\")"
      ],
      "metadata": {
        "colab": {
          "base_uri": "https://localhost:8080/"
        },
        "id": "O3rqbN4kNtIr",
        "outputId": "9fd08c15-f40d-43f4-d19f-cc9a345acd5e"
      },
      "execution_count": null,
      "outputs": [
        {
          "output_type": "stream",
          "name": "stdout",
          "text": [
            "[' ', ' ']\n",
            "Yes, there is at least one match!\n"
          ]
        }
      ]
    },
    {
      "cell_type": "code",
      "source": [
        "import re\n",
        "\n",
        "txt1 = \"This is Ineuron FSDS 2nd batch\"\n",
        "\n",
        "#Return a match at every white-space character:\n",
        "\n",
        "y = re.findall(\"\\d\", txt1)\n",
        "\n",
        "print(y)\n",
        "\n",
        "if y:\n",
        "  print(\"Yes, there is at least one match!\")\n",
        "else:\n",
        "  print(\"No match\")"
      ],
      "metadata": {
        "colab": {
          "base_uri": "https://localhost:8080/"
        },
        "id": "UAGMp1ZVfWVB",
        "outputId": "5dfbfe35-bcfd-4a86-a91b-a29cf1ddbef7"
      },
      "execution_count": null,
      "outputs": [
        {
          "output_type": "stream",
          "name": "stdout",
          "text": [
            "['2']\n",
            "Yes, there is at least one match!\n"
          ]
        }
      ]
    },
    {
      "cell_type": "code",
      "source": [
        "z=re.findall(\"\\w\",txt1)\n",
        "print(z)\n",
        "if z:\n",
        "  print(\"Yes, there is at least one match\")\n",
        "else:\n",
        "  print(\"No match\")"
      ],
      "metadata": {
        "colab": {
          "base_uri": "https://localhost:8080/"
        },
        "id": "QW3UrXmWfx2m",
        "outputId": "b16a3196-558b-4efa-a583-741852bb4726"
      },
      "execution_count": null,
      "outputs": [
        {
          "output_type": "stream",
          "name": "stdout",
          "text": [
            "['T', 'h', 'i', 's', 'i', 's', 'I', 'n', 'e', 'u', 'r', 'o', 'n', 'F', 'S', 'D', 'S', '2', 'n', 'd', 'b', 'a', 't', 'c', 'h']\n",
            "Yes, there is at least one match\n"
          ]
        }
      ]
    },
    {
      "cell_type": "code",
      "source": [
        "#13. What do means by \\D, \\W, and \\S shorthand character classes signify in regular expressions?\n",
        "'''\n",
        "\\D--->Returns a match where the string DOES NOT contain digits\n",
        "\\W--->Returns a match where the string DOES NOT contain any word characters\n",
        "\\S--->Returns a match where the string DOES NOT contain a white space character\n",
        "'''\n",
        "\n",
        "#/D----Returns a match where the string does not contains digits\n",
        "import re\n",
        "txt3=\" Today date is 02/02/2021\"\n",
        "t3=re.findall('\\D',txt3)\n",
        "print(t3)\n"
      ],
      "metadata": {
        "id": "GvZ3YCE8gD8Y",
        "colab": {
          "base_uri": "https://localhost:8080/"
        },
        "outputId": "788c3ca3-38da-45da-cdad-d2cc02cd3bef"
      },
      "execution_count": null,
      "outputs": [
        {
          "output_type": "stream",
          "name": "stdout",
          "text": [
            "[' ', 'T', 'o', 'd', 'a', 'y', ' ', 'd', 'a', 't', 'e', ' ', 'i', 's', ' ', '/', '/']\n"
          ]
        }
      ]
    },
    {
      "cell_type": "code",
      "source": [
        "#\\W--->Returns a match where the string does not conatin any word charcters\n",
        "t4=re.findall('\\W',txt3)\n",
        "print(t4)"
      ],
      "metadata": {
        "colab": {
          "base_uri": "https://localhost:8080/"
        },
        "id": "brV4sy-DtWYO",
        "outputId": "7e7973a1-637d-4473-fcf7-a20b3d071465"
      },
      "execution_count": null,
      "outputs": [
        {
          "output_type": "stream",
          "name": "stdout",
          "text": [
            "[' ', ' ', ' ', ' ', '/', '/']\n"
          ]
        }
      ]
    },
    {
      "cell_type": "code",
      "source": [
        "#\\S--->Returns a sring where the string does not conatins any whites space characters\n",
        "t5=re.findall('\\S',txt3)\n",
        "print(t5)"
      ],
      "metadata": {
        "colab": {
          "base_uri": "https://localhost:8080/"
        },
        "id": "52HC7SXQtqPB",
        "outputId": "67c7ecde-19f5-4777-e70a-70d3b1c36f6d"
      },
      "execution_count": null,
      "outputs": [
        {
          "output_type": "stream",
          "name": "stdout",
          "text": [
            "['T', 'o', 'd', 'a', 'y', 'd', 'a', 't', 'e', 'i', 's', '0', '2', '/', '0', '2', '/', '2', '0', '2', '1']\n"
          ]
        }
      ]
    },
    {
      "cell_type": "code",
      "source": [
        "#14. What is the difference between .*? and .*?\n",
        "'''\n",
        "Answer:\n",
        "\n",
        "(.*?) matches any character (.) any number of times (*), as few times as possible to make the regex match (?).\n",
        "\n",
        "(.*)? captures a group zero or one times (?). That group consists of a run of any length (*) of any character (.)\n",
        "'''"
      ],
      "metadata": {
        "id": "Kze9rsL_vZWs"
      },
      "execution_count": null,
      "outputs": []
    },
    {
      "cell_type": "code",
      "source": [
        "#15. What is the syntax for matching both numbers and lowercase letters with a character class?\n",
        "\n",
        "'''\n",
        "Answer:\n",
        "\n",
        "Lower case letter ---- [a-z]..it takes any charcters from a to z\n",
        "Upper case letter-----[A-Z]....It takes any charcters from A toZ\n",
        "'''"
      ],
      "metadata": {
        "id": "RUSbAG36xxn6"
      },
      "execution_count": null,
      "outputs": []
    },
    {
      "cell_type": "code",
      "source": [
        "#16. What is the procedure for making a normal expression in regax case insensitive?\n",
        "\n",
        "#Passing re.I or re.IGNORECASE as the second argument to re.compile() will make the matching case insensitive.\n",
        "\n",
        "import re\n",
        "txt5='This is python'\n",
        "regex5=re.compile('\\S',re.IGNORECASE)  #re.IGNORECASE is to insensitive\n",
        "research=regex5.search(txt5)\n",
        "print(research)"
      ],
      "metadata": {
        "colab": {
          "base_uri": "https://localhost:8080/"
        },
        "id": "Gsciu6fGzVbi",
        "outputId": "328ee7c2-9a32-41cf-c504-415c5e3582d8"
      },
      "execution_count": null,
      "outputs": [
        {
          "output_type": "stream",
          "name": "stdout",
          "text": [
            "<re.Match object; span=(1, 2), match='h'>\n"
          ]
        }
      ]
    },
    {
      "cell_type": "code",
      "source": [
        "#17. What does the . character normally match? What does it match if re.DOTALL is passed as 2nd argument in re.compile()?\n",
        "\n",
        "'''\n",
        "Answer:\n",
        "\n",
        "The . character normally matches any character except the newline character. If re.DOTALL is passed as the second argument to re.compile(), \n",
        "then the dot will also match newline characters.\n",
        "'''"
      ],
      "metadata": {
        "id": "Saucv8H81aEX"
      },
      "execution_count": null,
      "outputs": []
    },
    {
      "cell_type": "code",
      "source": [
        "#18. If numReg = re.compile(r'\\d+'), what will numRegex.sub('X', '11 drummers, 10 pipers, five rings, 4 hen') return?\n",
        "import re\n",
        "numReg = re.compile(r'\\d+')\n",
        "res1=numReg.sub('X', '11 drummers, 10 pipers, five rings, 4 hen')  # substituting 'x' with digits\n",
        "print(res1)\n"
      ],
      "metadata": {
        "colab": {
          "base_uri": "https://localhost:8080/"
        },
        "id": "-D3y2G-63oqE",
        "outputId": "94d008dd-9d08-4e8b-a7e0-b9c7f95b6f6a"
      },
      "execution_count": null,
      "outputs": [
        {
          "output_type": "stream",
          "name": "stdout",
          "text": [
            "X drummers, X pipers, five rings, X hen\n"
          ]
        }
      ]
    },
    {
      "cell_type": "code",
      "source": [
        "#19. What does passing re.VERBOSE as the 2nd argument to re.compile() allow to do?\n",
        "'''\n",
        "Answer:\n",
        "\n",
        "The re.VERBOSE argument allows you to add whitespace and comments to the string passed to re.compile().\n",
        "'''"
      ],
      "metadata": {
        "id": "Lry_z8M242QA"
      },
      "execution_count": null,
      "outputs": []
    },
    {
      "cell_type": "code",
      "source": [
        "'''20. How would you write a regex that match a number with comma for every three digits? It must match the given following:\n",
        "'42'\n",
        "'1,234'\n",
        "'6,368,745'\n",
        "but not the following:\n",
        "'12,34,567' (which has only two digits between the commas)\n",
        "'1234' (which lacks commas)\n",
        "'''\n",
        "import re\n",
        "rgobj=re.compile(r'^\\d{1,3}(,\\d{3})*$')\n",
        "res201=rgobj.search('42')\n",
        "print(res201)\n",
        "res202=rgobj.search('1,234')\n",
        "print(res202)\n",
        "res203=rgobj.search('6,368,745')\n",
        "print(res203)\n",
        "res204=rgobj.search('12,34,567')\n",
        "print(res204)\n",
        "res205=rgobj.search('1234')\n",
        "print(res205)"
      ],
      "metadata": {
        "colab": {
          "base_uri": "https://localhost:8080/"
        },
        "id": "NdjPPug2Q2fs",
        "outputId": "0f65f906-18f3-402a-e931-1bf1a013f8d3"
      },
      "execution_count": null,
      "outputs": [
        {
          "output_type": "stream",
          "name": "stdout",
          "text": [
            "<re.Match object; span=(0, 2), match='42'>\n",
            "<re.Match object; span=(0, 5), match='1,234'>\n",
            "<re.Match object; span=(0, 9), match='6,368,745'>\n",
            "None\n",
            "None\n"
          ]
        }
      ]
    },
    {
      "cell_type": "code",
      "source": [
        "'''21. How would you write a regex that matches the full name of someone whose last name is Watanabe? \n",
        "You can assume that the first name that comes before it will always be one word that begins with a capital letter. The regex must match the following:\n",
        "'Haruto Watanabe'\n",
        "'Alice Watanabe'\n",
        "'RoboCop Watanabe'\n",
        "but not the following:\n",
        "'haruto Watanabe' (where the first name is not capitalized)\n",
        "'Mr. Watanabe' (where the preceding word has a nonletter character)\n",
        "'Watanabe' (which has no first name)\n",
        "'Haruto watanabe' (where Watanabe is not capitalized)\n",
        "'''\n",
        "\n",
        "regobj21=re.compile(r'[A-Z][a-z]*\\sWatanabe')\n",
        "res211=regobj21.search('Haruto Watanabe')\n",
        "print(res211)\n",
        "res212=regobj21.search('RoboCop Watanabe')\n",
        "print(res212)\n",
        "res213=regobj21.search('Alice Watanabe')\n",
        "print(res213)\n",
        "res214=regobj21.search('haruto Watanabe')\n",
        "print(res214)\n",
        "res215=regobj21.search('Watanabe')\n",
        "print(res215)\n",
        "res216=regobj21.search('Haruto watanabe')\n",
        "print(res216)"
      ],
      "metadata": {
        "colab": {
          "base_uri": "https://localhost:8080/"
        },
        "id": "jSVAuCkTRNCD",
        "outputId": "30deeec2-d1ad-47e5-cdad-3ae6d10bdd1b"
      },
      "execution_count": null,
      "outputs": [
        {
          "output_type": "stream",
          "name": "stdout",
          "text": [
            "<re.Match object; span=(0, 15), match='Haruto Watanabe'>\n",
            "<re.Match object; span=(4, 16), match='Cop Watanabe'>\n",
            "<re.Match object; span=(0, 14), match='Alice Watanabe'>\n",
            "None\n",
            "None\n",
            "None\n"
          ]
        }
      ]
    },
    {
      "cell_type": "code",
      "source": [
        "'''\n",
        "22. How would you write a regex that matches a sentence where the first word is either Alice, Bob, or Carol; \n",
        "the second word is either eats, pets, or throws; the third word is apples, cats, or baseballs; and the sentence ends with a period? \n",
        "This regex should be case-insensitive. It must match the following:\n",
        "'Alice eats apples.'\n",
        "'Bob pets cats.'\n",
        "'Carol throws baseballs.'\n",
        "'Alice throws Apples.'\n",
        "'BOB EATS CATS.'\n",
        "but not the following:\n",
        "'RoboCop eats apples.'\n",
        "'ALICE THROWS FOOTBALLS.'\n",
        "'Carol eats 7 cats.'\n",
        "'''\n",
        "regobj22=re.compile(r'(Alice|Bob|carol)\\s(eats|pets|throws)\\s(apples|cats|baseballs).' , re.IGNORECASE)\n",
        "res221=regobj22.search('Alice eats apples.')\n",
        "print(res221)\n",
        "res222=regobj22.search('Bob pets cats.')\n",
        "print(res222)\n",
        "res223=regobj22.search('Carol throws baseballs.')\n",
        "print(res223)\n",
        "res224=regobj22.search('Alice throws Apples.')\n",
        "print(res224)\n",
        "res225=regobj22.search('BOB EATS CATS.')\n",
        "print(res225)\n",
        "res226=regobj22.search('RoboCop eats apples.')\n",
        "print(res226)\n",
        "res227=regobj22.search('ALICE THROWS FOOTBALLS.')\n",
        "print(res227)\n",
        "res228=regobj22.search('Carol eats 7 cats.')\n",
        "print(res228)"
      ],
      "metadata": {
        "colab": {
          "base_uri": "https://localhost:8080/"
        },
        "id": "WXwZEy1tVVCW",
        "outputId": "f891d6a8-8958-4d27-f7f9-19a593e5a3aa"
      },
      "execution_count": null,
      "outputs": [
        {
          "output_type": "stream",
          "name": "stdout",
          "text": [
            "<re.Match object; span=(0, 18), match='Alice eats apples.'>\n",
            "<re.Match object; span=(0, 14), match='Bob pets cats.'>\n",
            "<re.Match object; span=(0, 23), match='Carol throws baseballs.'>\n",
            "<re.Match object; span=(0, 20), match='Alice throws Apples.'>\n",
            "<re.Match object; span=(0, 14), match='BOB EATS CATS.'>\n",
            "None\n",
            "None\n",
            "None\n"
          ]
        }
      ]
    }
  ]
}