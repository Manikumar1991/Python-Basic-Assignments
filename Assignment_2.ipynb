{
 "cells": [
  {
   "cell_type": "markdown",
   "id": "c0c8e99b",
   "metadata": {},
   "source": [
    "1. In the below elements which of them are values or an expression? eg:- values can be integer or string and expressions will be mathematical operators.\n",
    "\n",
    "* ----expression\n",
    "'hello'---string\n",
    "-87.8------float\n",
    "- -----Expression\n",
    "/ -----Expression\n",
    "+ ----------Expression\t\n",
    "6 ---Integer\n",
    "\n"
   ]
  },
  {
   "cell_type": "markdown",
   "id": "0b62c396",
   "metadata": {},
   "source": [
    "2. What is the difference between string and variable?\n",
    "\n",
    "Answer:\n",
    "Vraiable:\n",
    "A python variable is a reversed memory location to store values.In other words, a variable in a  python program gives data to the computer for processing.\n",
    "\n",
    "Variable in python starts form (a-z),(A-Z) and(_undersore)\n",
    "\n",
    "string:\n",
    "\n",
    "String in python are surrounded by either single quotations('Python') or double quotations (\"Python \")\n",
    "\n"
   ]
  },
  {
   "cell_type": "markdown",
   "id": "d027499d",
   "metadata": {},
   "source": [
    "3. Describe three different data types.\n",
    "\n",
    "Answer:\n",
    "Different data types in python are:\n",
    "Int: It represent whole numbers (10,20,30)\n",
    "Float:It represnts Decimal values( 0.1,1.2,5.2 etc)\n",
    "Complex:complex number in the form of 2+3j\n",
    "String:Sequence of characters enclosed with single or double quotes\n",
    "List:\n",
    "-It contains group of entities\n",
    "-Insertion and duplicates elemets are allowed\n",
    "-Mutable data type\n",
    "-Hetrogenenous objects are allowed\n",
    "-empty list=[]\n",
    "\n",
    "tuple:\n",
    "-Tupe is same as list,once we create tuple object, we cannot perform any changes in taht object\n",
    "-Immtable data type\n",
    "-Empty tuple =()\n",
    "Dictionary:\n",
    "-Represent a group of objects as key-values pairs\n",
    "-Duplicate keys are not allowed,but duplictae values are allowed\n",
    "-Hetrogeneous objects are allowed\n",
    "-Insertion order is not preserved\n",
    "-Mutuable data type\n",
    "\n",
    "Set:\n",
    "-It represent a group of unique elements\n",
    "-Duplicates are not allowed\n",
    "-Mutuanble data type\n",
    "-empty set =set()"
   ]
  },
  {
   "cell_type": "markdown",
   "id": "2c5a7907",
   "metadata": {},
   "source": [
    "4. What is an expression made up of? What do all expressions do?\n",
    "\n",
    "Answer:\n",
    "Expressions are mathematical statements that have a minimum of two terms containing numbers or variables, or both, connected by an operator in between\n",
    "\n",
    "Addition : a+b\n",
    "Substraction :a-b\n",
    "Multiplication :a*b\n",
    "Division : a/b\n",
    "Modulo : a%b\n",
    "Floor division : a//b\n",
    "Exponent operator :a**b"
   ]
  },
  {
   "cell_type": "markdown",
   "id": "fb66dc08",
   "metadata": {},
   "source": [
    "5. This assignment statements, like spam = 10. What is the difference between an expression and a statement?\n",
    "Answer:\n",
    "Expression are mathematical statement it performs an action between  minimum of two variable \n",
    "a=2\n",
    "b=3\n",
    "c=a+b=5\n",
    "\n",
    "Spam=10 it is variable to stores the value 10 in memory"
   ]
  },
  {
   "cell_type": "markdown",
   "id": "5fdf50ba",
   "metadata": {},
   "source": [
    "#6. After running the following code, what does the variable bacon contain?\n",
    "bacon = 22\n",
    "bacon + 1\n"
   ]
  },
  {
   "cell_type": "markdown",
   "id": "e7f1273e",
   "metadata": {},
   "source": [
    "#7. What should the values of the following two terms be?\n",
    "print('spam' + 'spamspam','\\n')\n",
    "\n",
    "print('spam' * 3)\n"
   ]
  },
  {
   "cell_type": "markdown",
   "id": "182f3a43",
   "metadata": {},
   "source": [
    "8. Why is eggs a valid variable name while 100 is invalid?\n",
    "\n",
    "Answer:\n",
    "Eggs is a variable name\n",
    "But while is a reserved keyword in python\n",
    "\n",
    "Note:In python we cannot use reserved keyword for variable assignments"
   ]
  },
  {
   "cell_type": "markdown",
   "id": "1ade3180",
   "metadata": {},
   "source": [
    "#9. What three functions can be used to get the integer, floating-point number, or string version of a value?\n",
    "\n",
    "a=10\n",
    "b=13.4\n",
    "c='Python'\n",
    "\n",
    "print(type(a),'\\n')\n",
    "print(type(b),'\\n')\n",
    "print(type(c))"
   ]
  },
  {
   "cell_type": "markdown",
   "id": "16581409",
   "metadata": {},
   "source": [
    "#10. Why does this expression cause an error? How can you fix it?\n",
    "s='I have eaten ' + str(99) + ' burritos.'\n",
    "s\n",
    "\n",
    "\n",
    "'''Answer: string concatenation can be done between two strings,here 99 is an integer, we have to convert this integer\n",
    "    into string using typecasting'''"
   ]
  },
  {
   "cell_type": "code",
   "execution_count": null,
   "id": "1a682aa8",
   "metadata": {},
   "outputs": [],
   "source": []
  }
 ],
 "metadata": {
  "kernelspec": {
   "display_name": "Python 3 (ipykernel)",
   "language": "python",
   "name": "python3"
  },
  "language_info": {
   "codemirror_mode": {
    "name": "ipython",
    "version": 3
   },
   "file_extension": ".py",
   "mimetype": "text/x-python",
   "name": "python",
   "nbconvert_exporter": "python",
   "pygments_lexer": "ipython3",
   "version": "3.9.7"
  }
 },
 "nbformat": 4,
 "nbformat_minor": 5
}
