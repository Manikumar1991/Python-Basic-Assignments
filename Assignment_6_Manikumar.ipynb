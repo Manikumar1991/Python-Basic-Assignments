{
 "cells": [
  {
   "cell_type": "markdown",
   "id": "0c7a6c50",
   "metadata": {},
   "source": [
    "1. What are escape characters, and how do you use them?\n",
    "Answer:\n",
    "To insert characters that are illegal in a string, use an escape character.\n",
    "An escape character is a backslash \\ followed by the character you want to insert."
   ]
  },
  {
   "cell_type": "code",
   "execution_count": 2,
   "id": "0e1aca92",
   "metadata": {},
   "outputs": [
    {
     "ename": "SyntaxError",
     "evalue": "invalid syntax (Temp/ipykernel_10836/1150073718.py, line 1)",
     "output_type": "error",
     "traceback": [
      "\u001b[1;36m  File \u001b[1;32m\"C:\\Users\\Admin\\AppData\\Local\\Temp/ipykernel_10836/1150073718.py\"\u001b[1;36m, line \u001b[1;32m1\u001b[0m\n\u001b[1;33m    s=\"This is the \"FUll Statc Data Sience course\" by Ineuron\"\u001b[0m\n\u001b[1;37m                    ^\u001b[0m\n\u001b[1;31mSyntaxError\u001b[0m\u001b[1;31m:\u001b[0m invalid syntax\n"
     ]
    }
   ],
   "source": [
    "s=\"This is the \"FUll Statc Data Sience course\" by Ineuron\"\n",
    "s"
   ]
  },
  {
   "cell_type": "code",
   "execution_count": 3,
   "id": "3ae822eb",
   "metadata": {},
   "outputs": [
    {
     "data": {
      "text/plain": [
       "'This is the \"FUll Statc Data Sience course\" by Ineuron'"
      ]
     },
     "execution_count": 3,
     "metadata": {},
     "output_type": "execute_result"
    }
   ],
   "source": [
    "#To avoid the above error we have introduce escape character (\\)\n",
    "s=\"This is the \\\"FUll Statc Data Sience course\\\" by Ineuron\"\n",
    "s"
   ]
  },
  {
   "cell_type": "code",
   "execution_count": 8,
   "id": "c1b25edd",
   "metadata": {},
   "outputs": [
    {
     "name": "stdout",
     "output_type": "stream",
     "text": [
      "This is my first python class \n",
      "in FSDS by Ineuron\n"
     ]
    }
   ],
   "source": [
    "##2. What do the escape characters n and t stand for?\n",
    "\n",
    "#\\n escape character 'means new line'\n",
    "x=\"This is my first python class \\nin FSDS by Ineuron\" #\\n escape character 'means new line'\n",
    "print(x)"
   ]
  },
  {
   "cell_type": "code",
   "execution_count": 10,
   "id": "88b7ee69",
   "metadata": {},
   "outputs": [
    {
     "name": "stdout",
     "output_type": "stream",
     "text": [
      "Full\tData\tScience\tCourse\n"
     ]
    }
   ],
   "source": [
    "#\\t escape character 'means tab line means add spaces'\n",
    "y=\"Full\\tData\\tScience\\tCourse\"\n",
    "print(y)"
   ]
  },
  {
   "cell_type": "code",
   "execution_count": 16,
   "id": "68722c2b",
   "metadata": {},
   "outputs": [
    {
     "name": "stdout",
     "output_type": "stream",
     "text": [
      "Ineuron\n",
      "course\n",
      "Ineuron\\course\n",
      "Ineuron\tcourse\n"
     ]
    }
   ],
   "source": [
    "#3. What is the way to include backslash characters in a string?\n",
    "\n",
    "#A single backslash (\\) within a string literal represents an escape character.\n",
    "print('Ineuron\\ncourse')  # new line\n",
    "print('Ineuron\\\\course') # added one baclslash\n",
    "print('Ineuron\\tcourse') # added tab/space betwwen words"
   ]
  },
  {
   "cell_type": "code",
   "execution_count": 18,
   "id": "5cd75cbc",
   "metadata": {},
   "outputs": [
    {
     "data": {
      "text/plain": [
       "\"Howl's Moving Castle\""
      ]
     },
     "execution_count": 18,
     "metadata": {},
     "output_type": "execute_result"
    }
   ],
   "source": [
    "'''4. The string \"Howl's Moving Castle\" is a correct value. Why isn't the single quote character in the word\n",
    "Howl's not escaped a problem?'''\n",
    "\n",
    "'''\n",
    "Answer:\n",
    "The single quote in Howl's is fine because you've used double quotes to mark the beginning and end of the string.\n",
    "'''\n",
    "\n",
    "string =\"Howl's Moving Castle\"\n",
    "string"
   ]
  },
  {
   "cell_type": "code",
   "execution_count": 22,
   "id": "4f8e76ce",
   "metadata": {},
   "outputs": [
    {
     "data": {
      "text/plain": [
       "'\\nThis is \\nIneuron FSDS \\nClass'"
      ]
     },
     "execution_count": 22,
     "metadata": {},
     "output_type": "execute_result"
    }
   ],
   "source": [
    "#5. How do you write a string of newlines if you don't want to use the n character?\n",
    "\n",
    "#Multiline strings allow you to use newlines in strings without the \\n escape character.\n",
    "'''\n",
    "This is \n",
    "Ineuron FSDS \n",
    "Class'''"
   ]
  },
  {
   "cell_type": "code",
   "execution_count": 52,
   "id": "c6731bdc",
   "metadata": {},
   "outputs": [
    {
     "data": {
      "text/plain": [
       "'e'"
      ]
     },
     "execution_count": 52,
     "metadata": {},
     "output_type": "execute_result"
    }
   ],
   "source": [
    "#6. What are the values of the given expressions?\n",
    "'Hello, world!'[1]"
   ]
  },
  {
   "cell_type": "code",
   "execution_count": 24,
   "id": "3164c958",
   "metadata": {},
   "outputs": [
    {
     "data": {
      "text/plain": [
       "'Hello'"
      ]
     },
     "execution_count": 24,
     "metadata": {},
     "output_type": "execute_result"
    }
   ],
   "source": [
    "'Hello, world!'[0:5]"
   ]
  },
  {
   "cell_type": "code",
   "execution_count": 25,
   "id": "5f8e33d5",
   "metadata": {},
   "outputs": [
    {
     "data": {
      "text/plain": [
       "'Hello'"
      ]
     },
     "execution_count": 25,
     "metadata": {},
     "output_type": "execute_result"
    }
   ],
   "source": [
    "'Hello, world!'[:5]"
   ]
  },
  {
   "cell_type": "code",
   "execution_count": 27,
   "id": "17cedfdb",
   "metadata": {},
   "outputs": [
    {
     "data": {
      "text/plain": [
       "'lo, world!'"
      ]
     },
     "execution_count": 27,
     "metadata": {},
     "output_type": "execute_result"
    }
   ],
   "source": [
    "'Hello, world!'[3:]"
   ]
  },
  {
   "cell_type": "code",
   "execution_count": 53,
   "id": "ff4a3ce6",
   "metadata": {},
   "outputs": [
    {
     "data": {
      "text/plain": [
       "'HELLO'"
      ]
     },
     "execution_count": 53,
     "metadata": {},
     "output_type": "execute_result"
    }
   ],
   "source": [
    "#7. What are the values of the following expressions?\n",
    "'Hello'.upper()"
   ]
  },
  {
   "cell_type": "code",
   "execution_count": 29,
   "id": "86adcd7d",
   "metadata": {},
   "outputs": [
    {
     "data": {
      "text/plain": [
       "True"
      ]
     },
     "execution_count": 29,
     "metadata": {},
     "output_type": "execute_result"
    }
   ],
   "source": [
    "'Hello'.upper().isupper()"
   ]
  },
  {
   "cell_type": "code",
   "execution_count": 30,
   "id": "2dfe688d",
   "metadata": {},
   "outputs": [
    {
     "data": {
      "text/plain": [
       "'hello'"
      ]
     },
     "execution_count": 30,
     "metadata": {},
     "output_type": "execute_result"
    }
   ],
   "source": [
    "'Hello'.upper().lower()"
   ]
  },
  {
   "cell_type": "code",
   "execution_count": 54,
   "id": "96eb784a",
   "metadata": {},
   "outputs": [
    {
     "data": {
      "text/plain": [
       "['Remember,', 'remember,', 'the', 'fifth', 'of', 'July.']"
      ]
     },
     "execution_count": 54,
     "metadata": {},
     "output_type": "execute_result"
    }
   ],
   "source": [
    "#8. What are the values of the following expressions?\n",
    "\n",
    "'Remember, remember, the fifth of July.'.split()"
   ]
  },
  {
   "cell_type": "code",
   "execution_count": 32,
   "id": "c9bde86a",
   "metadata": {},
   "outputs": [
    {
     "data": {
      "text/plain": [
       "'There-can-only-one.'"
      ]
     },
     "execution_count": 32,
     "metadata": {},
     "output_type": "execute_result"
    }
   ],
   "source": [
    "'-'.join('There can only one.'.split())"
   ]
  },
  {
   "cell_type": "code",
   "execution_count": 55,
   "id": "656e25c0",
   "metadata": {},
   "outputs": [
    {
     "name": "stdout",
     "output_type": "stream",
     "text": [
      "Ineuron###\n"
     ]
    }
   ],
   "source": [
    "#9. What are the methods for right-justifying, left-justifying, and centering a string?\n",
    "\n",
    "str1 = \"Ineuron\"\n",
    "print(str1.ljust(10,'#'))"
   ]
  },
  {
   "cell_type": "code",
   "execution_count": 35,
   "id": "c25d2816",
   "metadata": {},
   "outputs": [
    {
     "name": "stdout",
     "output_type": "stream",
     "text": [
      "###Ineuron\n"
     ]
    }
   ],
   "source": [
    "print(str1.rjust(10,'#'))"
   ]
  },
  {
   "cell_type": "code",
   "execution_count": 37,
   "id": "3c44dc5a",
   "metadata": {},
   "outputs": [
    {
     "name": "stdout",
     "output_type": "stream",
     "text": [
      "#Ineuron##\n"
     ]
    }
   ],
   "source": [
    "print(str1.center(10,'#'))"
   ]
  },
  {
   "cell_type": "code",
   "execution_count": 57,
   "id": "01293f2c",
   "metadata": {},
   "outputs": [
    {
     "data": {
      "text/plain": [
       "'                       This is FSDS Class by Ineuron              '"
      ]
     },
     "execution_count": 57,
     "metadata": {},
     "output_type": "execute_result"
    }
   ],
   "source": [
    "#10. What is the best way to remove whitespace characters from the start or end?\n",
    "\n",
    "str2='                       This is FSDS Class by Ineuron              '\n",
    "str2"
   ]
  },
  {
   "cell_type": "code",
   "execution_count": 49,
   "id": "f2b4f87e",
   "metadata": {},
   "outputs": [
    {
     "data": {
      "text/plain": [
       "'This is FSDS Class by Ineuron              '"
      ]
     },
     "execution_count": 49,
     "metadata": {},
     "output_type": "execute_result"
    }
   ],
   "source": [
    "str2.lstrip()  # removed the left side white spaces"
   ]
  },
  {
   "cell_type": "code",
   "execution_count": 50,
   "id": "2d746081",
   "metadata": {},
   "outputs": [
    {
     "data": {
      "text/plain": [
       "'                       This is FSDS Class by Ineuron'"
      ]
     },
     "execution_count": 50,
     "metadata": {},
     "output_type": "execute_result"
    }
   ],
   "source": [
    "str2.rstrip()  # removed the right side white spaces"
   ]
  },
  {
   "cell_type": "code",
   "execution_count": 51,
   "id": "10264b05",
   "metadata": {},
   "outputs": [
    {
     "data": {
      "text/plain": [
       "'This is FSDS Class by Ineuron'"
      ]
     },
     "execution_count": 51,
     "metadata": {},
     "output_type": "execute_result"
    }
   ],
   "source": [
    "str2.strip() # removed left and right side white spaces"
   ]
  }
 ],
 "metadata": {
  "kernelspec": {
   "display_name": "Python 3 (ipykernel)",
   "language": "python",
   "name": "python3"
  },
  "language_info": {
   "codemirror_mode": {
    "name": "ipython",
    "version": 3
   },
   "file_extension": ".py",
   "mimetype": "text/x-python",
   "name": "python",
   "nbconvert_exporter": "python",
   "pygments_lexer": "ipython3",
   "version": "3.9.7"
  }
 },
 "nbformat": 4,
 "nbformat_minor": 5
}
