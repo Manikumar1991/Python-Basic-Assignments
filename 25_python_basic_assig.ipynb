{
 "cells": [
  {
   "cell_type": "code",
   "execution_count": null,
   "id": "6c5352d5",
   "metadata": {},
   "outputs": [],
   "source": [
    "#1. What is the difference between enclosing a list comprehension in square brackets and parentheses?\n",
    "\n",
    "l = [n*2 for n in range(1000)] # List comprehension\n",
    "g = (n*2 for n in range(1000))  # Generator expression\n",
    "\n",
    "#A List Comprehension, just like the plain range function, executes immediately and returns a list.\n",
    "#A Generator Expression, just like xrange returns an object that can be iterated over."
   ]
  },
  {
   "cell_type": "code",
   "execution_count": null,
   "id": "5e849faa",
   "metadata": {},
   "outputs": [],
   "source": [
    "#2 . What is the relationship between generators and iterators?\n",
    "'''\n",
    "Iterator:\n",
    "1.Class is used to implement an iterator\n",
    "2.Local Variables aren’t used here.  \n",
    "3.Iterators are used mostly to iterate or convert other objects to an iterator using iter() function.                                                               \tGenerators are mostly used in loops to generate an iterator by returning all the values in the loop without affecting the iteration of the loop\n",
    "4.Iterator uses iter() and next() functions\n",
    "5.Every iterator is not a generator\n",
    "\n",
    "Generator:\n",
    "1.Function is used to implement a generator.\n",
    "2.All the local variables before the yield function are stored. \n",
    "3.Generators are mostly used in loops to generate an iterator by returning all the values in the loop without affecting the \n",
    "iteration of the loop\n",
    "4.Generator uses yield keyword\n",
    "5.Every generator is an iterator\n",
    "'''"
   ]
  },
  {
   "cell_type": "code",
   "execution_count": null,
   "id": "20bea370",
   "metadata": {},
   "outputs": [],
   "source": [
    "#3. What are the signs that a function is a generator function?\n",
    "\n",
    "def func():\n",
    "    #code here\n",
    "    yield\n",
    "    \n",
    "'''\n",
    "It is fairly simple to create a generator in Python. It is as easy as defining a normal function, \n",
    "but with a yield statement instead of a return statement.    \n",
    "'''"
   ]
  },
  {
   "cell_type": "code",
   "execution_count": null,
   "id": "30679390",
   "metadata": {},
   "outputs": [],
   "source": [
    "#4. What is the purpose of a yield statement?\n",
    "'''\n",
    "Yield is a keyword in Python that is used to return from a function without destroying the states of its local variable and \n",
    "when the function is called, the execution starts from the last yield statement\n",
    "'''"
   ]
  },
  {
   "cell_type": "code",
   "execution_count": null,
   "id": "46242a20",
   "metadata": {},
   "outputs": [],
   "source": [
    "#5. What is the relationship between map calls and list comprehensions? Make a comparison and contrast between the two.\n",
    "'''\n",
    "Syntax: map(funcname, iterables)\n",
    "\n",
    "Parameters:\n",
    "\n",
    "funcname: It is the name of the function which is already defined and is to be executed for each item.\n",
    "iterables: It can be list, tuples or any other iterable object.\n",
    "\n",
    "Return Type: Returns a map object after applying the given function to each item of a given iterable (list, tuple etc.)\n",
    "\n",
    "Map VS List Comprehension\n",
    "List comprehension is more concise and easier to read as compared to map.\n",
    "List comprehension allows filtering. In map, we have no such facility. For example, to print all even numbers in range of 100,\n",
    "    we can write [n for n in range(100) if n%2 == 0]. There is no alternate for it in map\n",
    "List comprehension are used when a list of results is required as map only returns a map object and does not return any list.\n",
    "List comprehension is faster than map when we need to evaluate expressions that are too long or complicated to express\n",
    "Map is faster in case of calling an already defined function (as no lambda is required).\n",
    "'''"
   ]
  }
 ],
 "metadata": {
  "kernelspec": {
   "display_name": "Python 3 (ipykernel)",
   "language": "python",
   "name": "python3"
  },
  "language_info": {
   "codemirror_mode": {
    "name": "ipython",
    "version": 3
   },
   "file_extension": ".py",
   "mimetype": "text/x-python",
   "name": "python",
   "nbconvert_exporter": "python",
   "pygments_lexer": "ipython3",
   "version": "3.9.7"
  }
 },
 "nbformat": 4,
 "nbformat_minor": 5
}
