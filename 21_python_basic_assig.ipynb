{
 "cells": [
  {
   "cell_type": "code",
   "execution_count": 16,
   "id": "ced2e96c",
   "metadata": {},
   "outputs": [],
   "source": [
    "#1.Add the current date to the text file today.txt as a string.\n",
    "import datetime\n",
    "now=datetime.date.today()\n",
    "now_str=now.isoformat()\n",
    "with open(\"today\",\"w\") as f:\n",
    "    f.write(now_str)  "
   ]
  },
  {
   "cell_type": "code",
   "execution_count": 46,
   "id": "7f2ef8de",
   "metadata": {},
   "outputs": [],
   "source": [
    "#2. Read the text file today.txt into the string today_string\n",
    "with open(\"today\",'r') as f:\n",
    "    today_string=f.read()"
   ]
  },
  {
   "cell_type": "code",
   "execution_count": 47,
   "id": "380116c1",
   "metadata": {},
   "outputs": [
    {
     "data": {
      "text/plain": [
       "'2022-03-19'"
      ]
     },
     "execution_count": 47,
     "metadata": {},
     "output_type": "execute_result"
    }
   ],
   "source": [
    "today_string"
   ]
  },
  {
   "cell_type": "code",
   "execution_count": 70,
   "id": "4a53975f",
   "metadata": {},
   "outputs": [
    {
     "data": {
      "text/plain": [
       "datetime.datetime(2022, 3, 19, 0, 0)"
      ]
     },
     "execution_count": 70,
     "metadata": {},
     "output_type": "execute_result"
    }
   ],
   "source": [
    "#3. Parse the date from today_string.\n",
    "from datetime import datetime\n",
    "datetime.strptime(today_string,\"%Y-%m-%d\")"
   ]
  },
  {
   "cell_type": "code",
   "execution_count": 83,
   "id": "d603f0e7",
   "metadata": {},
   "outputs": [
    {
     "data": {
      "text/plain": [
       "['.ipynb_checkpoints', '21_python_basic_assig.ipynb', 'today']"
      ]
     },
     "execution_count": 83,
     "metadata": {},
     "output_type": "execute_result"
    }
   ],
   "source": [
    "#4. List the files in your current directory\n",
    "import os\n",
    "os.listdir()"
   ]
  },
  {
   "cell_type": "code",
   "execution_count": 80,
   "id": "ccabf73d",
   "metadata": {},
   "outputs": [
    {
     "name": "stdout",
     "output_type": "stream",
     "text": [
      " Volume in drive C has no label.\n",
      " Volume Serial Number is D6CE-46AE\n",
      "\n",
      " Directory of C:\\Users\\Admin\\1.Ineuron\\Assignments\\Python Basic Assignmnet\\21\n",
      "\n",
      "03/19/2022  11:37 AM    <DIR>          .\n",
      "03/19/2022  11:37 AM    <DIR>          ..\n",
      "03/19/2022  10:57 AM    <DIR>          .ipynb_checkpoints\n",
      "03/19/2022  11:37 AM             3,061 21_python_basic_assig.ipynb\n",
      "03/19/2022  11:08 AM                10 today\n",
      "               2 File(s)          3,071 bytes\n",
      "               3 Dir(s)  128,792,461,312 bytes free\n"
     ]
    }
   ],
   "source": [
    "ls"
   ]
  },
  {
   "cell_type": "code",
   "execution_count": 86,
   "id": "329cc3b3",
   "metadata": {},
   "outputs": [
    {
     "data": {
      "text/plain": [
       "['.ipynb_checkpoints',\n",
       " '12.Assignment.ipynb',\n",
       " '13_python_basic_assig.ipynb',\n",
       " '14_python_basic_assig.ipynb',\n",
       " '15.python_basic_assig.ipynb',\n",
       " '16.python_basic_assig.ipynb',\n",
       " '17.python_basic_assig.ipynb',\n",
       " '18.python_basic_assig.ipynb',\n",
       " '19_python_basic_assig.ipynb',\n",
       " '20',\n",
       " '21',\n",
       " '24.Python_basic_assig.ipynb',\n",
       " 'Assignment_1.ipynb',\n",
       " 'Assignment_10.ipynb',\n",
       " 'Assignment_11.ipynb',\n",
       " 'Assignment_2.ipynb',\n",
       " 'Assignment_3.ipynb',\n",
       " 'Assignment_4.ipynb',\n",
       " 'Assignment_5.ipynb',\n",
       " 'Assignment_6.ipynb',\n",
       " 'Assignment_7.ipynb',\n",
       " 'Assignmet_8.ipynb',\n",
       " 'Assignmet_9.ipynb',\n",
       " 'filename.log',\n",
       " 'zoo.py',\n",
       " 'zoo.py.ipynb',\n",
       " '__pycache__']"
      ]
     },
     "execution_count": 86,
     "metadata": {},
     "output_type": "execute_result"
    }
   ],
   "source": [
    "#5.Create a list of all of the files in your parent directory (minimum five files should be available).\n",
    "import os\n",
    "os.listdir('..')"
   ]
  },
  {
   "cell_type": "code",
   "execution_count": 115,
   "id": "4132409e",
   "metadata": {},
   "outputs": [],
   "source": [
    "'''\n",
    "6. Use multiprocessing to create three separate processes. Make each one wait a random number of seconds between one and \n",
    "five, print the current time, and then exit.\n",
    "'''\n",
    "import multiprocessing\n",
    "def now(seconds):\n",
    "    from datetime import datetime\n",
    "    from time import sleep\n",
    "    sleep(seconds)\n",
    "    print('wait',seconds,\"seconds,time is\",datetime.utcnow)\n",
    "    import random\n",
    "for i in range(3):\n",
    "    seconds=random.random()\n",
    "    proc=multiprocessing.Process(target=now,args=(seconds,))\n",
    "    proc.start()    "
   ]
  },
  {
   "cell_type": "code",
   "execution_count": 104,
   "id": "d2b25018",
   "metadata": {},
   "outputs": [],
   "source": [
    "#7. Create a date object of your day of birth.\n",
    "import datetime\n",
    "day=datetime.date(1991,10,2)"
   ]
  },
  {
   "cell_type": "code",
   "execution_count": 105,
   "id": "a3cdb6c7",
   "metadata": {},
   "outputs": [
    {
     "data": {
      "text/plain": [
       "datetime.date(1991, 10, 2)"
      ]
     },
     "execution_count": 105,
     "metadata": {},
     "output_type": "execute_result"
    }
   ],
   "source": [
    "day"
   ]
  },
  {
   "cell_type": "code",
   "execution_count": 112,
   "id": "f8266791",
   "metadata": {},
   "outputs": [
    {
     "data": {
      "text/plain": [
       "2"
      ]
     },
     "execution_count": 112,
     "metadata": {},
     "output_type": "execute_result"
    }
   ],
   "source": [
    "#8. What day of the week was your day of birth?\n",
    "day.weekday()  # weekday(), Monday is 0 and Sunday is 6"
   ]
  },
  {
   "cell_type": "code",
   "execution_count": 113,
   "id": "1d3d8889",
   "metadata": {},
   "outputs": [
    {
     "data": {
      "text/plain": [
       "3"
      ]
     },
     "execution_count": 113,
     "metadata": {},
     "output_type": "execute_result"
    }
   ],
   "source": [
    "day.isoweekday() # isoweekday(), Monday is 1 andSunday is 7"
   ]
  },
  {
   "cell_type": "code",
   "execution_count": 114,
   "id": "36f65165",
   "metadata": {},
   "outputs": [
    {
     "data": {
      "text/plain": [
       "datetime.date(2019, 2, 17)"
      ]
     },
     "execution_count": 114,
     "metadata": {},
     "output_type": "execute_result"
    }
   ],
   "source": [
    "#9.When will you be (or when were you) 10,000 days old?\n",
    "from datetime import timedelta\n",
    "days_old=day+timedelta(days=10000)\n",
    "days_old"
   ]
  }
 ],
 "metadata": {
  "kernelspec": {
   "display_name": "Python 3 (ipykernel)",
   "language": "python",
   "name": "python3"
  },
  "language_info": {
   "codemirror_mode": {
    "name": "ipython",
    "version": 3
   },
   "file_extension": ".py",
   "mimetype": "text/x-python",
   "name": "python",
   "nbconvert_exporter": "python",
   "pygments_lexer": "ipython3",
   "version": "3.9.7"
  }
 },
 "nbformat": 4,
 "nbformat_minor": 5
}
