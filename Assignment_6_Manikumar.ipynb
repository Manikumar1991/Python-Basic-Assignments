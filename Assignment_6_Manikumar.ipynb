{
 "cells": [
  {
   "cell_type": "markdown",
   "id": "b1313d94",
   "metadata": {},
   "source": [
    "1. What are escape characters, and how do you use them?\n",
    "Answer:\n",
    "To insert characters that are illegal in a string, use an escape character.\n",
    "An escape character is a backslash \\ followed by the character you want to insert."
   ]
  },
  {
   "cell_type": "code",
   "execution_count": 2,
   "id": "978e15b7",
   "metadata": {},
   "outputs": [
    {
     "ename": "SyntaxError",
     "evalue": "invalid syntax (Temp/ipykernel_10836/1150073718.py, line 1)",
     "output_type": "error",
     "traceback": [
      "\u001b[1;36m  File \u001b[1;32m\"C:\\Users\\Admin\\AppData\\Local\\Temp/ipykernel_10836/1150073718.py\"\u001b[1;36m, line \u001b[1;32m1\u001b[0m\n\u001b[1;33m    s=\"This is the \"FUll Statc Data Sience course\" by Ineuron\"\u001b[0m\n\u001b[1;37m                    ^\u001b[0m\n\u001b[1;31mSyntaxError\u001b[0m\u001b[1;31m:\u001b[0m invalid syntax\n"
     ]
    }
   ],
   "source": [
    "s=\"This is the \"FUll Statc Data Sience course\" by Ineuron\"\n",
    "s"
   ]
  },
  {
   "cell_type": "code",
   "execution_count": 3,
   "id": "60a27b62",
   "metadata": {},
   "outputs": [
    {
     "data": {
      "text/plain": [
       "'This is the \"FUll Statc Data Sience course\" by Ineuron'"
      ]
     },
     "execution_count": 3,
     "metadata": {},
     "output_type": "execute_result"
    }
   ],
   "source": [
    "#To avoid the above error we have introduce escape character (\\)\n",
    "s=\"This is the \\\"FUll Statc Data Sience course\\\" by Ineuron\"\n",
    "s"
   ]
  },
  {
   "cell_type": "markdown",
   "id": "5429c2a3",
   "metadata": {},
   "source": [
    "2. What do the escape characters n and t stand for?"
   ]
  },
  {
   "cell_type": "code",
   "execution_count": 8,
   "id": "c0b7dd3d",
   "metadata": {},
   "outputs": [
    {
     "name": "stdout",
     "output_type": "stream",
     "text": [
      "This is my first python class \n",
      "in FSDS by Ineuron\n"
     ]
    }
   ],
   "source": [
    "#\\n escape character 'means new line'\n",
    "x=\"This is my first python class \\nin FSDS by Ineuron\" #\\n escape character 'means new line'\n",
    "print(x)"
   ]
  },
  {
   "cell_type": "code",
   "execution_count": 10,
   "id": "80dd7fa5",
   "metadata": {},
   "outputs": [
    {
     "name": "stdout",
     "output_type": "stream",
     "text": [
      "Full\tData\tScience\tCourse\n"
     ]
    }
   ],
   "source": [
    "#\\t escape character 'means tab line means add spaces'\n",
    "y=\"Full\\tData\\tScience\\tCourse\"\n",
    "print(y)"
   ]
  },
  {
   "cell_type": "markdown",
   "id": "6cc308a0",
   "metadata": {},
   "source": [
    "3. What is the way to include backslash characters in a string?"
   ]
  },
  {
   "cell_type": "code",
   "execution_count": 16,
   "id": "69ed3bc2",
   "metadata": {},
   "outputs": [
    {
     "name": "stdout",
     "output_type": "stream",
     "text": [
      "Ineuron\n",
      "course\n",
      "Ineuron\\course\n",
      "Ineuron\tcourse\n"
     ]
    }
   ],
   "source": [
    "#A single backslash (\\) within a string literal represents an escape character.\n",
    "print('Ineuron\\ncourse')  # new line\n",
    "print('Ineuron\\\\course') # added one baclslash\n",
    "print('Ineuron\\tcourse') # added tab/space betwwen words"
   ]
  },
  {
   "cell_type": "code",
   "execution_count": 18,
   "id": "944fa931",
   "metadata": {},
   "outputs": [
    {
     "data": {
      "text/plain": [
       "\"Howl's Moving Castle\""
      ]
     },
     "execution_count": 18,
     "metadata": {},
     "output_type": "execute_result"
    }
   ],
   "source": [
    "'''4. The string \"Howl's Moving Castle\" is a correct value. Why isn't the single quote character in the word\n",
    "Howl's not escaped a problem?'''\n",
    "\n",
    "'''\n",
    "Answer:\n",
    "The single quote in Howl's is fine because you've used double quotes to mark the beginning and end of the string.\n",
    "'''\n",
    "\n",
    "string =\"Howl's Moving Castle\"\n",
    "string"
   ]
  },
  {
   "cell_type": "markdown",
   "id": "d803e139",
   "metadata": {},
   "source": [
    "5. How do you write a string of newlines if you don't want to use the n character?"
   ]
  },
  {
   "cell_type": "code",
   "execution_count": 22,
   "id": "9b54e95a",
   "metadata": {},
   "outputs": [
    {
     "data": {
      "text/plain": [
       "'\\nThis is \\nIneuron FSDS \\nClass'"
      ]
     },
     "execution_count": 22,
     "metadata": {},
     "output_type": "execute_result"
    }
   ],
   "source": [
    "#Multiline strings allow you to use newlines in strings without the \\n escape character.\n",
    "'''\n",
    "This is \n",
    "Ineuron FSDS \n",
    "Class'''"
   ]
  },
  {
   "cell_type": "markdown",
   "id": "a4babdc9",
   "metadata": {},
   "source": [
    "6. What are the values of the given expressions?"
   ]
  },
  {
   "cell_type": "code",
   "execution_count": 26,
   "id": "1a41be71",
   "metadata": {},
   "outputs": [
    {
     "data": {
      "text/plain": [
       "'e'"
      ]
     },
     "execution_count": 26,
     "metadata": {},
     "output_type": "execute_result"
    }
   ],
   "source": [
    "'Hello, world!'[1]"
   ]
  },
  {
   "cell_type": "code",
   "execution_count": 24,
   "id": "5ff1effd",
   "metadata": {},
   "outputs": [
    {
     "data": {
      "text/plain": [
       "'Hello'"
      ]
     },
     "execution_count": 24,
     "metadata": {},
     "output_type": "execute_result"
    }
   ],
   "source": [
    "'Hello, world!'[0:5]"
   ]
  },
  {
   "cell_type": "code",
   "execution_count": 25,
   "id": "f9410a55",
   "metadata": {},
   "outputs": [
    {
     "data": {
      "text/plain": [
       "'Hello'"
      ]
     },
     "execution_count": 25,
     "metadata": {},
     "output_type": "execute_result"
    }
   ],
   "source": [
    "'Hello, world!'[:5]"
   ]
  },
  {
   "cell_type": "code",
   "execution_count": 27,
   "id": "4cc2a0db",
   "metadata": {},
   "outputs": [
    {
     "data": {
      "text/plain": [
       "'lo, world!'"
      ]
     },
     "execution_count": 27,
     "metadata": {},
     "output_type": "execute_result"
    }
   ],
   "source": [
    "'Hello, world!'[3:]"
   ]
  },
  {
   "cell_type": "markdown",
   "id": "2b418463",
   "metadata": {},
   "source": [
    "7. What are the values of the following expressions?"
   ]
  },
  {
   "cell_type": "code",
   "execution_count": 28,
   "id": "ed91a38b",
   "metadata": {},
   "outputs": [
    {
     "data": {
      "text/plain": [
       "'HELLO'"
      ]
     },
     "execution_count": 28,
     "metadata": {},
     "output_type": "execute_result"
    }
   ],
   "source": [
    "'Hello'.upper()"
   ]
  },
  {
   "cell_type": "code",
   "execution_count": 29,
   "id": "c811f352",
   "metadata": {},
   "outputs": [
    {
     "data": {
      "text/plain": [
       "True"
      ]
     },
     "execution_count": 29,
     "metadata": {},
     "output_type": "execute_result"
    }
   ],
   "source": [
    "'Hello'.upper().isupper()"
   ]
  },
  {
   "cell_type": "code",
   "execution_count": 30,
   "id": "e9d44bb3",
   "metadata": {},
   "outputs": [
    {
     "data": {
      "text/plain": [
       "'hello'"
      ]
     },
     "execution_count": 30,
     "metadata": {},
     "output_type": "execute_result"
    }
   ],
   "source": [
    "'Hello'.upper().lower()"
   ]
  },
  {
   "cell_type": "markdown",
   "id": "63aa72d5",
   "metadata": {},
   "source": [
    "8. What are the values of the following expressions?"
   ]
  },
  {
   "cell_type": "code",
   "execution_count": 31,
   "id": "c01b4b2b",
   "metadata": {},
   "outputs": [
    {
     "data": {
      "text/plain": [
       "['Remember,', 'remember,', 'the', 'fifth', 'of', 'July.']"
      ]
     },
     "execution_count": 31,
     "metadata": {},
     "output_type": "execute_result"
    }
   ],
   "source": [
    "'Remember, remember, the fifth of July.'.split()\n"
   ]
  },
  {
   "cell_type": "code",
   "execution_count": 32,
   "id": "a34c6bfe",
   "metadata": {},
   "outputs": [
    {
     "data": {
      "text/plain": [
       "'There-can-only-one.'"
      ]
     },
     "execution_count": 32,
     "metadata": {},
     "output_type": "execute_result"
    }
   ],
   "source": [
    "'-'.join('There can only one.'.split())"
   ]
  },
  {
   "cell_type": "markdown",
   "id": "7405fdda",
   "metadata": {},
   "source": [
    "9. What are the methods for right-justifying, left-justifying, and centering a string?"
   ]
  },
  {
   "cell_type": "code",
   "execution_count": 34,
   "id": "0c8866aa",
   "metadata": {},
   "outputs": [
    {
     "name": "stdout",
     "output_type": "stream",
     "text": [
      "Ineuron###\n"
     ]
    }
   ],
   "source": [
    "str1 = \"Ineuron\"\n",
    "print(str1.ljust(10,'#'))"
   ]
  },
  {
   "cell_type": "code",
   "execution_count": 35,
   "id": "e1612478",
   "metadata": {},
   "outputs": [
    {
     "name": "stdout",
     "output_type": "stream",
     "text": [
      "###Ineuron\n"
     ]
    }
   ],
   "source": [
    "print(str1.rjust(10,'#'))"
   ]
  },
  {
   "cell_type": "code",
   "execution_count": 37,
   "id": "43e8a5c0",
   "metadata": {},
   "outputs": [
    {
     "name": "stdout",
     "output_type": "stream",
     "text": [
      "#Ineuron##\n"
     ]
    }
   ],
   "source": [
    "print(str1.center(10,'#'))"
   ]
  },
  {
   "cell_type": "markdown",
   "id": "64fedd71",
   "metadata": {},
   "source": [
    "10. What is the best way to remove whitespace characters from the start or end?"
   ]
  },
  {
   "cell_type": "code",
   "execution_count": 47,
   "id": "4a1c552a",
   "metadata": {},
   "outputs": [],
   "source": [
    "str2='                       This is FSDS Class by Ineuron              '"
   ]
  },
  {
   "cell_type": "code",
   "execution_count": 49,
   "id": "40f901e6",
   "metadata": {},
   "outputs": [
    {
     "data": {
      "text/plain": [
       "'This is FSDS Class by Ineuron              '"
      ]
     },
     "execution_count": 49,
     "metadata": {},
     "output_type": "execute_result"
    }
   ],
   "source": [
    "str2.lstrip()  # removed the left side white spaces"
   ]
  },
  {
   "cell_type": "code",
   "execution_count": 50,
   "id": "1c5aa056",
   "metadata": {},
   "outputs": [
    {
     "data": {
      "text/plain": [
       "'                       This is FSDS Class by Ineuron'"
      ]
     },
     "execution_count": 50,
     "metadata": {},
     "output_type": "execute_result"
    }
   ],
   "source": [
    "str2.rstrip()  # removed the right side white spaces"
   ]
  },
  {
   "cell_type": "code",
   "execution_count": 51,
   "id": "06289e10",
   "metadata": {},
   "outputs": [
    {
     "data": {
      "text/plain": [
       "'This is FSDS Class by Ineuron'"
      ]
     },
     "execution_count": 51,
     "metadata": {},
     "output_type": "execute_result"
    }
   ],
   "source": [
    "str2.strip() # removed left and right side white spaces"
   ]
  }
 ],
 "metadata": {
  "kernelspec": {
   "display_name": "Python 3 (ipykernel)",
   "language": "python",
   "name": "python3"
  },
  "language_info": {
   "codemirror_mode": {
    "name": "ipython",
    "version": 3
   },
   "file_extension": ".py",
   "mimetype": "text/x-python",
   "name": "python",
   "nbconvert_exporter": "python",
   "pygments_lexer": "ipython3",
   "version": "3.9.7"
  }
 },
 "nbformat": 4,
 "nbformat_minor": 5
}
