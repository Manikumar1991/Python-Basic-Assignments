{
 "cells": [
  {
   "cell_type": "code",
   "execution_count": 1,
   "id": "f7c205f6",
   "metadata": {},
   "outputs": [],
   "source": [
    "#1.What is the result of the code, and explain?\n",
    "X=\"iNeuron\"\n",
    "def fun():\n",
    "    print(X)"
   ]
  },
  {
   "cell_type": "code",
   "execution_count": 2,
   "id": "4b173096",
   "metadata": {},
   "outputs": [
    {
     "name": "stdout",
     "output_type": "stream",
     "text": [
      "iNeuron\n"
     ]
    }
   ],
   "source": [
    "fun()  \n",
    "# Here X acts as a global veriable\n",
    "# Global variables are accesiable inside the function\n",
    "#we cannot access function variable out side the function"
   ]
  },
  {
   "cell_type": "code",
   "execution_count": 4,
   "id": "1fb95656",
   "metadata": {},
   "outputs": [],
   "source": [
    "#2. What is the result of the code, and explain?\n",
    "X = \"iNeuron\"\n",
    "def func():\n",
    "    X = 'NI!'"
   ]
  },
  {
   "cell_type": "code",
   "execution_count": 5,
   "id": "4b6eb152",
   "metadata": {},
   "outputs": [
    {
     "name": "stdout",
     "output_type": "stream",
     "text": [
      "iNeuron\n"
     ]
    }
   ],
   "source": [
    "print(X)\n",
    "# Here X acts as a global veriable\n",
    "# Global variables are accesiable inside the function\n",
    "#we cannot access function variable out side the function"
   ]
  },
  {
   "cell_type": "code",
   "execution_count": 6,
   "id": "cd3845e9",
   "metadata": {},
   "outputs": [],
   "source": [
    "#3.What does this code print, and why?\n",
    "X = 'iNeuron'\n",
    "def func():\n",
    "    X = 'NI'\n",
    "    print(X)   #1 "
   ]
  },
  {
   "cell_type": "code",
   "execution_count": 7,
   "id": "9657c7d3",
   "metadata": {},
   "outputs": [
    {
     "name": "stdout",
     "output_type": "stream",
     "text": [
      "NI\n",
      "iNeuron\n"
     ]
    }
   ],
   "source": [
    "func()\n",
    "print(X) #2\n",
    "# Here X acts as a global veriable\n",
    "# Global variables are accesiable inside the function\n",
    "# Here 1.print(X) is pointed inside the function Variable X='Ni!' and the 2.Print(X) is pointed the Global Variable X"
   ]
  },
  {
   "cell_type": "code",
   "execution_count": 10,
   "id": "e3dea183",
   "metadata": {},
   "outputs": [],
   "source": [
    "#4. What output does this code produce? Why?\n",
    "X = 'iNeuron'\n",
    "def func():\n",
    "    global X\n",
    "    X = 'NI'\n",
    "    print(X)"
   ]
  },
  {
   "cell_type": "code",
   "execution_count": 11,
   "id": "89da3d0b",
   "metadata": {},
   "outputs": [
    {
     "name": "stdout",
     "output_type": "stream",
     "text": [
      "NI\n",
      "NI\n"
     ]
    }
   ],
   "source": [
    "func()\n",
    "print(X)\n",
    "\n",
    "# here we made the X as Global inside the function, so we can accsess this variable outside the function."
   ]
  },
  {
   "cell_type": "code",
   "execution_count": 13,
   "id": "44843409",
   "metadata": {},
   "outputs": [],
   "source": [
    "#5.What about this code—what’s the output, and why?\n",
    "X = 'iNeuron'\n",
    "def func():\n",
    "    X = 'NI'\n",
    "    def nested():\n",
    "        print(X)\n",
    "    nested()"
   ]
  },
  {
   "cell_type": "code",
   "execution_count": 14,
   "id": "8755b002",
   "metadata": {},
   "outputs": [
    {
     "name": "stdout",
     "output_type": "stream",
     "text": [
      "NI\n"
     ]
    }
   ],
   "source": [
    "func()"
   ]
  },
  {
   "cell_type": "code",
   "execution_count": 15,
   "id": "38bd508c",
   "metadata": {},
   "outputs": [
    {
     "name": "stdout",
     "output_type": "stream",
     "text": [
      "iNeuron\n"
     ]
    }
   ],
   "source": [
    "print(X)"
   ]
  },
  {
   "cell_type": "code",
   "execution_count": null,
   "id": "affc5db8",
   "metadata": {},
   "outputs": [],
   "source": [
    "# nested() print the NI bcz for this function is inside the func and it has a variable x='Ni'\n",
    "#print(X) will point to the global variable 'iNeuron'"
   ]
  },
  {
   "cell_type": "code",
   "execution_count": 26,
   "id": "72a8dab8",
   "metadata": {},
   "outputs": [],
   "source": [
    "#6. How about this code: what is its output in Python 3, and explain?\n",
    "def func():\n",
    "    X = 'NI'\n",
    "    def nested():\n",
    "        nonlocal X\n",
    "        X = 'Spam'\n",
    "        print(X)\n",
    "    nested()"
   ]
  },
  {
   "cell_type": "code",
   "execution_count": 27,
   "id": "23ab6259",
   "metadata": {},
   "outputs": [
    {
     "name": "stdout",
     "output_type": "stream",
     "text": [
      "Spam\n"
     ]
    }
   ],
   "source": [
    "func()"
   ]
  },
  {
   "cell_type": "code",
   "execution_count": 28,
   "id": "9fc9709e",
   "metadata": {},
   "outputs": [
    {
     "name": "stdout",
     "output_type": "stream",
     "text": [
      "iNeuron\n"
     ]
    }
   ],
   "source": [
    "print(X)"
   ]
  },
  {
   "cell_type": "code",
   "execution_count": null,
   "id": "ff9491ef",
   "metadata": {},
   "outputs": [],
   "source": [
    "'''\n",
    " it can be noticed that the nested function is nested(). Inside the nested(), you saw the use of a nonlocal keyword to \n",
    " create a nonlocal variable. The nested() is defined in the scope of func\n",
    " (). If you make changes to the value of a nonlocal variable, they reflect in the local variable\n",
    " '''"
   ]
  }
 ],
 "metadata": {
  "kernelspec": {
   "display_name": "Python 3 (ipykernel)",
   "language": "python",
   "name": "python3"
  },
  "language_info": {
   "codemirror_mode": {
    "name": "ipython",
    "version": 3
   },
   "file_extension": ".py",
   "mimetype": "text/x-python",
   "name": "python",
   "nbconvert_exporter": "python",
   "pygments_lexer": "ipython3",
   "version": "3.9.7"
  }
 },
 "nbformat": 4,
 "nbformat_minor": 5
}
